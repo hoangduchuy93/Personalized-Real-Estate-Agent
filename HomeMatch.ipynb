{
 "cells": [
  {
   "cell_type": "markdown",
   "id": "a108af04",
   "metadata": {},
   "source": [
    "This is a starter notebook for the project, you'll have to import the libraries you'll need, you can find a list of the ones available in this workspace in the requirements.txt file in this workspace. "
   ]
  },
  {
   "cell_type": "markdown",
   "id": "bcc4a74c",
   "metadata": {},
   "source": [
    "# <font color='orange'>Step 1: Setting Up the Python Application</font>"
   ]
  },
  {
   "cell_type": "code",
   "execution_count": null,
   "id": "54872c62",
   "metadata": {},
   "outputs": [],
   "source": [
    "# %pip install langchain==0.0.305\n",
    "# %pip install openai==0.28.1\n",
    "# %pip install pydantic>=1.10.12\n",
    "# %pip install pytest>=7.4.0\n",
    "# %pip install sentence-transformers>=2.2.0\n",
    "# %pip install transformers>=4.31.0\n",
    "# #%pip install chromadb==0.4.18\n",
    "# %pip install chromadb==0.3.29\n",
    "# %pip install jupyter==1.0.0\n",
    "# %pip install pandas\n",
    "# %pip install shutil\n",
    "# %pip install langchain_core"
   ]
  },
  {
   "cell_type": "code",
   "execution_count": null,
   "id": "c40a6595",
   "metadata": {},
   "outputs": [],
   "source": [
    "# %pip install fastapi==0.111.0"
   ]
  },
  {
   "cell_type": "code",
   "execution_count": 1,
   "id": "976c23a4",
   "metadata": {},
   "outputs": [
    {
     "name": "stdout",
     "output_type": "stream",
     "text": [
      "Defaulting to user installation because normal site-packages is not writeable\n",
      "Requirement already satisfied: langchain==0.0.305 in /opt/conda/lib/python3.10/site-packages (0.0.305)\n",
      "Requirement already satisfied: dataclasses-json<0.7,>=0.5.7 in /opt/conda/lib/python3.10/site-packages (from langchain==0.0.305) (0.6.6)\n",
      "Requirement already satisfied: numpy<2,>=1 in /opt/conda/lib/python3.10/site-packages (from langchain==0.0.305) (1.24.3)\n",
      "Requirement already satisfied: pydantic<3,>=1 in /home/student/.local/lib/python3.10/site-packages (from langchain==0.0.305) (2.10.3)\n",
      "Requirement already satisfied: async-timeout<5.0.0,>=4.0.0 in /opt/conda/lib/python3.10/site-packages (from langchain==0.0.305) (4.0.3)\n",
      "Collecting langsmith<0.1.0,>=0.0.38\n",
      "  Using cached langsmith-0.0.92-py3-none-any.whl (56 kB)\n",
      "Requirement already satisfied: jsonpatch<2.0,>=1.33 in /opt/conda/lib/python3.10/site-packages (from langchain==0.0.305) (1.33)\n",
      "Requirement already satisfied: numexpr<3.0.0,>=2.8.4 in /opt/conda/lib/python3.10/site-packages (from langchain==0.0.305) (2.10.0)\n",
      "Requirement already satisfied: tenacity<9.0.0,>=8.1.0 in /opt/conda/lib/python3.10/site-packages (from langchain==0.0.305) (8.3.0)\n",
      "Requirement already satisfied: requests<3,>=2 in /opt/conda/lib/python3.10/site-packages (from langchain==0.0.305) (2.29.0)\n",
      "Requirement already satisfied: SQLAlchemy<3,>=1.4 in /opt/conda/lib/python3.10/site-packages (from langchain==0.0.305) (2.0.30)\n",
      "Requirement already satisfied: aiohttp<4.0.0,>=3.8.3 in /opt/conda/lib/python3.10/site-packages (from langchain==0.0.305) (3.9.5)\n",
      "Requirement already satisfied: anyio<4.0 in /opt/conda/lib/python3.10/site-packages (from langchain==0.0.305) (3.7.1)\n",
      "Requirement already satisfied: PyYAML>=5.3 in /opt/conda/lib/python3.10/site-packages (from langchain==0.0.305) (6.0)\n",
      "Requirement already satisfied: multidict<7.0,>=4.5 in /opt/conda/lib/python3.10/site-packages (from aiohttp<4.0.0,>=3.8.3->langchain==0.0.305) (6.0.5)\n",
      "Requirement already satisfied: frozenlist>=1.1.1 in /opt/conda/lib/python3.10/site-packages (from aiohttp<4.0.0,>=3.8.3->langchain==0.0.305) (1.4.1)\n",
      "Requirement already satisfied: attrs>=17.3.0 in /opt/conda/lib/python3.10/site-packages (from aiohttp<4.0.0,>=3.8.3->langchain==0.0.305) (23.1.0)\n",
      "Requirement already satisfied: yarl<2.0,>=1.0 in /opt/conda/lib/python3.10/site-packages (from aiohttp<4.0.0,>=3.8.3->langchain==0.0.305) (1.9.4)\n",
      "Requirement already satisfied: aiosignal>=1.1.2 in /opt/conda/lib/python3.10/site-packages (from aiohttp<4.0.0,>=3.8.3->langchain==0.0.305) (1.3.1)\n",
      "Requirement already satisfied: idna>=2.8 in /opt/conda/lib/python3.10/site-packages (from anyio<4.0->langchain==0.0.305) (3.4)\n",
      "Requirement already satisfied: sniffio>=1.1 in /opt/conda/lib/python3.10/site-packages (from anyio<4.0->langchain==0.0.305) (1.3.1)\n",
      "Requirement already satisfied: exceptiongroup in /opt/conda/lib/python3.10/site-packages (from anyio<4.0->langchain==0.0.305) (1.1.1)\n",
      "Requirement already satisfied: typing-inspect<1,>=0.4.0 in /opt/conda/lib/python3.10/site-packages (from dataclasses-json<0.7,>=0.5.7->langchain==0.0.305) (0.9.0)\n",
      "Requirement already satisfied: marshmallow<4.0.0,>=3.18.0 in /opt/conda/lib/python3.10/site-packages (from dataclasses-json<0.7,>=0.5.7->langchain==0.0.305) (3.21.2)\n",
      "Requirement already satisfied: jsonpointer>=1.9 in /opt/conda/lib/python3.10/site-packages (from jsonpatch<2.0,>=1.33->langchain==0.0.305) (2.1)\n",
      "Requirement already satisfied: annotated-types>=0.6.0 in /home/student/.local/lib/python3.10/site-packages (from pydantic<3,>=1->langchain==0.0.305) (0.7.0)\n",
      "Requirement already satisfied: pydantic-core==2.27.1 in /home/student/.local/lib/python3.10/site-packages (from pydantic<3,>=1->langchain==0.0.305) (2.27.1)\n",
      "Requirement already satisfied: typing-extensions>=4.12.2 in /home/student/.local/lib/python3.10/site-packages (from pydantic<3,>=1->langchain==0.0.305) (4.12.2)\n",
      "Requirement already satisfied: certifi>=2017.4.17 in /opt/conda/lib/python3.10/site-packages (from requests<3,>=2->langchain==0.0.305) (2023.5.7)\n",
      "Requirement already satisfied: urllib3<1.27,>=1.21.1 in /opt/conda/lib/python3.10/site-packages (from requests<3,>=2->langchain==0.0.305) (1.26.15)\n",
      "Requirement already satisfied: charset-normalizer<4,>=2 in /opt/conda/lib/python3.10/site-packages (from requests<3,>=2->langchain==0.0.305) (2.0.4)\n",
      "Requirement already satisfied: greenlet!=0.4.17 in /opt/conda/lib/python3.10/site-packages (from SQLAlchemy<3,>=1.4->langchain==0.0.305) (3.0.3)\n",
      "Requirement already satisfied: packaging>=17.0 in /home/student/.local/lib/python3.10/site-packages (from marshmallow<4.0.0,>=3.18.0->dataclasses-json<0.7,>=0.5.7->langchain==0.0.305) (24.2)\n",
      "Requirement already satisfied: mypy-extensions>=0.3.0 in /opt/conda/lib/python3.10/site-packages (from typing-inspect<1,>=0.4.0->dataclasses-json<0.7,>=0.5.7->langchain==0.0.305) (1.0.0)\n",
      "Installing collected packages: langsmith\n",
      "  Attempting uninstall: langsmith\n",
      "    Found existing installation: langsmith 0.2.3\n",
      "    Uninstalling langsmith-0.2.3:\n",
      "      Successfully uninstalled langsmith-0.2.3\n",
      "\u001b[33m  WARNING: The script langsmith is installed in '/home/student/.local/bin' which is not on PATH.\n",
      "  Consider adding this directory to PATH or, if you prefer to suppress this warning, use --no-warn-script-location.\u001b[0m\u001b[33m\n",
      "\u001b[0m\u001b[31mERROR: pip's dependency resolver does not currently take into account all the packages that are installed. This behaviour is the source of the following dependency conflicts.\n",
      "langchain-core 0.3.25 requires langsmith<0.3,>=0.1.125, but you have langsmith 0.0.92 which is incompatible.\u001b[0m\u001b[31m\n",
      "\u001b[0mSuccessfully installed langsmith-0.0.92\n",
      "Note: you may need to restart the kernel to use updated packages.\n",
      "Defaulting to user installation because normal site-packages is not writeable\n",
      "Requirement already satisfied: openai==0.28.1 in /opt/conda/lib/python3.10/site-packages (0.28.1)\n",
      "Requirement already satisfied: tqdm in /opt/conda/lib/python3.10/site-packages (from openai==0.28.1) (4.65.0)\n",
      "Requirement already satisfied: requests>=2.20 in /opt/conda/lib/python3.10/site-packages (from openai==0.28.1) (2.29.0)\n",
      "Requirement already satisfied: aiohttp in /opt/conda/lib/python3.10/site-packages (from openai==0.28.1) (3.9.5)\n",
      "Requirement already satisfied: certifi>=2017.4.17 in /opt/conda/lib/python3.10/site-packages (from requests>=2.20->openai==0.28.1) (2023.5.7)\n",
      "Requirement already satisfied: idna<4,>=2.5 in /opt/conda/lib/python3.10/site-packages (from requests>=2.20->openai==0.28.1) (3.4)\n",
      "Requirement already satisfied: charset-normalizer<4,>=2 in /opt/conda/lib/python3.10/site-packages (from requests>=2.20->openai==0.28.1) (2.0.4)\n",
      "Requirement already satisfied: urllib3<1.27,>=1.21.1 in /opt/conda/lib/python3.10/site-packages (from requests>=2.20->openai==0.28.1) (1.26.15)\n",
      "Requirement already satisfied: attrs>=17.3.0 in /opt/conda/lib/python3.10/site-packages (from aiohttp->openai==0.28.1) (23.1.0)\n",
      "Requirement already satisfied: frozenlist>=1.1.1 in /opt/conda/lib/python3.10/site-packages (from aiohttp->openai==0.28.1) (1.4.1)\n",
      "Requirement already satisfied: yarl<2.0,>=1.0 in /opt/conda/lib/python3.10/site-packages (from aiohttp->openai==0.28.1) (1.9.4)\n",
      "Requirement already satisfied: async-timeout<5.0,>=4.0 in /opt/conda/lib/python3.10/site-packages (from aiohttp->openai==0.28.1) (4.0.3)\n",
      "Requirement already satisfied: multidict<7.0,>=4.5 in /opt/conda/lib/python3.10/site-packages (from aiohttp->openai==0.28.1) (6.0.5)\n",
      "Requirement already satisfied: aiosignal>=1.1.2 in /opt/conda/lib/python3.10/site-packages (from aiohttp->openai==0.28.1) (1.3.1)\n",
      "Note: you may need to restart the kernel to use updated packages.\n",
      "Note: you may need to restart the kernel to use updated packages.\n",
      "Note: you may need to restart the kernel to use updated packages.\n",
      "Note: you may need to restart the kernel to use updated packages.\n",
      "Note: you may need to restart the kernel to use updated packages.\n",
      "Defaulting to user installation because normal site-packages is not writeable\n",
      "Requirement already satisfied: jupyter==1.0.0 in /opt/conda/lib/python3.10/site-packages (1.0.0)\n",
      "Requirement already satisfied: ipykernel in /opt/conda/lib/python3.10/site-packages (from jupyter==1.0.0) (6.29.4)\n",
      "Requirement already satisfied: jupyter-console in /opt/conda/lib/python3.10/site-packages (from jupyter==1.0.0) (6.6.3)\n",
      "Requirement already satisfied: nbconvert in /opt/conda/lib/python3.10/site-packages (from jupyter==1.0.0) (7.16.4)\n",
      "Requirement already satisfied: notebook in /opt/conda/lib/python3.10/site-packages (from jupyter==1.0.0) (6.5.6)\n",
      "Requirement already satisfied: ipywidgets in /opt/conda/lib/python3.10/site-packages (from jupyter==1.0.0) (8.1.2)\n",
      "Requirement already satisfied: qtconsole in /opt/conda/lib/python3.10/site-packages (from jupyter==1.0.0) (5.5.2)\n",
      "Requirement already satisfied: debugpy>=1.6.5 in /opt/conda/lib/python3.10/site-packages (from ipykernel->jupyter==1.0.0) (1.8.1)\n",
      "Requirement already satisfied: pyzmq>=24 in /opt/conda/lib/python3.10/site-packages (from ipykernel->jupyter==1.0.0) (24.0.1)\n",
      "Requirement already satisfied: comm>=0.1.1 in /opt/conda/lib/python3.10/site-packages (from ipykernel->jupyter==1.0.0) (0.2.2)\n",
      "Requirement already satisfied: traitlets>=5.4.0 in /opt/conda/lib/python3.10/site-packages (from ipykernel->jupyter==1.0.0) (5.7.1)\n",
      "Requirement already satisfied: nest-asyncio in /opt/conda/lib/python3.10/site-packages (from ipykernel->jupyter==1.0.0) (1.6.0)\n",
      "Requirement already satisfied: tornado>=6.1 in /opt/conda/lib/python3.10/site-packages (from ipykernel->jupyter==1.0.0) (6.4)\n",
      "Requirement already satisfied: packaging in /home/student/.local/lib/python3.10/site-packages (from ipykernel->jupyter==1.0.0) (24.2)\n",
      "Requirement already satisfied: matplotlib-inline>=0.1 in /opt/conda/lib/python3.10/site-packages (from ipykernel->jupyter==1.0.0) (0.1.6)\n",
      "Requirement already satisfied: jupyter-core!=5.0.*,>=4.12 in /opt/conda/lib/python3.10/site-packages (from ipykernel->jupyter==1.0.0) (5.7.2)\n",
      "Requirement already satisfied: ipython>=7.23.1 in /opt/conda/lib/python3.10/site-packages (from ipykernel->jupyter==1.0.0) (8.12.0)\n",
      "Requirement already satisfied: jupyter-client>=6.1.12 in /opt/conda/lib/python3.10/site-packages (from ipykernel->jupyter==1.0.0) (7.4.9)\n",
      "Requirement already satisfied: psutil in /opt/conda/lib/python3.10/site-packages (from ipykernel->jupyter==1.0.0) (5.9.0)\n",
      "Requirement already satisfied: jupyterlab-widgets~=3.0.10 in /opt/conda/lib/python3.10/site-packages (from ipywidgets->jupyter==1.0.0) (3.0.10)\n",
      "Requirement already satisfied: widgetsnbextension~=4.0.10 in /opt/conda/lib/python3.10/site-packages (from ipywidgets->jupyter==1.0.0) (4.0.10)\n"
     ]
    },
    {
     "name": "stdout",
     "output_type": "stream",
     "text": [
      "Requirement already satisfied: pygments in /opt/conda/lib/python3.10/site-packages (from jupyter-console->jupyter==1.0.0) (2.15.1)\n",
      "Requirement already satisfied: prompt-toolkit>=3.0.30 in /opt/conda/lib/python3.10/site-packages (from jupyter-console->jupyter==1.0.0) (3.0.36)\n",
      "Requirement already satisfied: jupyterlab-pygments in /opt/conda/lib/python3.10/site-packages (from nbconvert->jupyter==1.0.0) (0.3.0)\n",
      "Requirement already satisfied: jinja2>=3.0 in /opt/conda/lib/python3.10/site-packages (from nbconvert->jupyter==1.0.0) (3.1.2)\n",
      "Requirement already satisfied: nbclient>=0.5.0 in /opt/conda/lib/python3.10/site-packages (from nbconvert->jupyter==1.0.0) (0.10.0)\n",
      "Requirement already satisfied: mistune<4,>=2.0.3 in /opt/conda/lib/python3.10/site-packages (from nbconvert->jupyter==1.0.0) (3.0.2)\n",
      "Requirement already satisfied: beautifulsoup4 in /opt/conda/lib/python3.10/site-packages (from nbconvert->jupyter==1.0.0) (4.12.2)\n",
      "Requirement already satisfied: tinycss2 in /opt/conda/lib/python3.10/site-packages (from nbconvert->jupyter==1.0.0) (1.3.0)\n",
      "Requirement already satisfied: bleach!=5.0.0 in /opt/conda/lib/python3.10/site-packages (from nbconvert->jupyter==1.0.0) (6.1.0)\n",
      "Requirement already satisfied: markupsafe>=2.0 in /opt/conda/lib/python3.10/site-packages (from nbconvert->jupyter==1.0.0) (2.1.1)\n",
      "Requirement already satisfied: nbformat>=5.7 in /opt/conda/lib/python3.10/site-packages (from nbconvert->jupyter==1.0.0) (5.10.4)\n",
      "Requirement already satisfied: pandocfilters>=1.4.1 in /opt/conda/lib/python3.10/site-packages (from nbconvert->jupyter==1.0.0) (1.5.1)\n",
      "Requirement already satisfied: defusedxml in /opt/conda/lib/python3.10/site-packages (from nbconvert->jupyter==1.0.0) (0.7.1)\n",
      "Requirement already satisfied: terminado>=0.8.3 in /opt/conda/lib/python3.10/site-packages (from notebook->jupyter==1.0.0) (0.18.1)\n",
      "Requirement already satisfied: Send2Trash>=1.8.0 in /opt/conda/lib/python3.10/site-packages (from notebook->jupyter==1.0.0) (1.8.3)\n",
      "Requirement already satisfied: ipython-genutils in /opt/conda/lib/python3.10/site-packages (from notebook->jupyter==1.0.0) (0.2.0)\n",
      "Requirement already satisfied: nbclassic>=0.4.7 in /opt/conda/lib/python3.10/site-packages (from notebook->jupyter==1.0.0) (1.0.0)\n",
      "Requirement already satisfied: argon2-cffi in /opt/conda/lib/python3.10/site-packages (from notebook->jupyter==1.0.0) (23.1.0)\n",
      "Requirement already satisfied: prometheus-client in /opt/conda/lib/python3.10/site-packages (from notebook->jupyter==1.0.0) (0.20.0)\n",
      "Requirement already satisfied: qtpy>=2.4.0 in /opt/conda/lib/python3.10/site-packages (from qtconsole->jupyter==1.0.0) (2.4.1)\n",
      "Requirement already satisfied: webencodings in /opt/conda/lib/python3.10/site-packages (from bleach!=5.0.0->nbconvert->jupyter==1.0.0) (0.5.1)\n",
      "Requirement already satisfied: six>=1.9.0 in /opt/conda/lib/python3.10/site-packages (from bleach!=5.0.0->nbconvert->jupyter==1.0.0) (1.16.0)\n",
      "Requirement already satisfied: pexpect>4.3 in /opt/conda/lib/python3.10/site-packages (from ipython>=7.23.1->ipykernel->jupyter==1.0.0) (4.8.0)\n",
      "Requirement already satisfied: backcall in /opt/conda/lib/python3.10/site-packages (from ipython>=7.23.1->ipykernel->jupyter==1.0.0) (0.2.0)\n",
      "Requirement already satisfied: pickleshare in /opt/conda/lib/python3.10/site-packages (from ipython>=7.23.1->ipykernel->jupyter==1.0.0) (0.7.5)\n",
      "Requirement already satisfied: stack-data in /opt/conda/lib/python3.10/site-packages (from ipython>=7.23.1->ipykernel->jupyter==1.0.0) (0.2.0)\n",
      "Requirement already satisfied: decorator in /opt/conda/lib/python3.10/site-packages (from ipython>=7.23.1->ipykernel->jupyter==1.0.0) (5.1.1)\n",
      "Requirement already satisfied: jedi>=0.16 in /opt/conda/lib/python3.10/site-packages (from ipython>=7.23.1->ipykernel->jupyter==1.0.0) (0.18.1)\n",
      "Requirement already satisfied: python-dateutil>=2.8.2 in /opt/conda/lib/python3.10/site-packages (from jupyter-client>=6.1.12->ipykernel->jupyter==1.0.0) (2.9.0.post0)\n",
      "Requirement already satisfied: entrypoints in /opt/conda/lib/python3.10/site-packages (from jupyter-client>=6.1.12->ipykernel->jupyter==1.0.0) (0.4)\n",
      "Requirement already satisfied: platformdirs>=2.5 in /opt/conda/lib/python3.10/site-packages (from jupyter-core!=5.0.*,>=4.12->ipykernel->jupyter==1.0.0) (4.2.2)\n",
      "Requirement already satisfied: jupyter-server>=1.8 in /opt/conda/lib/python3.10/site-packages (from nbclassic>=0.4.7->notebook->jupyter==1.0.0) (2.14.0)\n",
      "Requirement already satisfied: notebook-shim>=0.2.3 in /opt/conda/lib/python3.10/site-packages (from nbclassic>=0.4.7->notebook->jupyter==1.0.0) (0.2.4)\n",
      "Requirement already satisfied: fastjsonschema>=2.15 in /opt/conda/lib/python3.10/site-packages (from nbformat>=5.7->nbconvert->jupyter==1.0.0) (2.19.1)\n",
      "Requirement already satisfied: jsonschema>=2.6 in /opt/conda/lib/python3.10/site-packages (from nbformat>=5.7->nbconvert->jupyter==1.0.0) (4.22.0)\n",
      "Requirement already satisfied: wcwidth in /opt/conda/lib/python3.10/site-packages (from prompt-toolkit>=3.0.30->jupyter-console->jupyter==1.0.0) (0.2.5)\n",
      "Requirement already satisfied: ptyprocess in /opt/conda/lib/python3.10/site-packages (from terminado>=0.8.3->notebook->jupyter==1.0.0) (0.7.0)\n",
      "Requirement already satisfied: argon2-cffi-bindings in /opt/conda/lib/python3.10/site-packages (from argon2-cffi->notebook->jupyter==1.0.0) (21.2.0)\n",
      "Requirement already satisfied: soupsieve>1.2 in /opt/conda/lib/python3.10/site-packages (from beautifulsoup4->nbconvert->jupyter==1.0.0) (2.4)\n",
      "Requirement already satisfied: parso<0.9.0,>=0.8.0 in /opt/conda/lib/python3.10/site-packages (from jedi>=0.16->ipython>=7.23.1->ipykernel->jupyter==1.0.0) (0.8.3)\n",
      "Requirement already satisfied: referencing>=0.28.4 in /opt/conda/lib/python3.10/site-packages (from jsonschema>=2.6->nbformat>=5.7->nbconvert->jupyter==1.0.0) (0.35.1)\n",
      "Requirement already satisfied: jsonschema-specifications>=2023.03.6 in /opt/conda/lib/python3.10/site-packages (from jsonschema>=2.6->nbformat>=5.7->nbconvert->jupyter==1.0.0) (2023.12.1)\n",
      "Requirement already satisfied: attrs>=22.2.0 in /opt/conda/lib/python3.10/site-packages (from jsonschema>=2.6->nbformat>=5.7->nbconvert->jupyter==1.0.0) (23.1.0)\n",
      "Requirement already satisfied: rpds-py>=0.7.1 in /opt/conda/lib/python3.10/site-packages (from jsonschema>=2.6->nbformat>=5.7->nbconvert->jupyter==1.0.0) (0.18.1)\n",
      "Requirement already satisfied: websocket-client>=1.7 in /opt/conda/lib/python3.10/site-packages (from jupyter-server>=1.8->nbclassic>=0.4.7->notebook->jupyter==1.0.0) (1.8.0)\n",
      "Requirement already satisfied: jupyter-server-terminals>=0.4.4 in /opt/conda/lib/python3.10/site-packages (from jupyter-server>=1.8->nbclassic>=0.4.7->notebook->jupyter==1.0.0) (0.5.3)\n",
      "Requirement already satisfied: overrides>=5.0 in /opt/conda/lib/python3.10/site-packages (from jupyter-server>=1.8->nbclassic>=0.4.7->notebook->jupyter==1.0.0) (7.7.0)\n",
      "Requirement already satisfied: jupyter-events>=0.9.0 in /opt/conda/lib/python3.10/site-packages (from jupyter-server>=1.8->nbclassic>=0.4.7->notebook->jupyter==1.0.0) (0.10.0)\n",
      "Requirement already satisfied: anyio>=3.1.0 in /opt/conda/lib/python3.10/site-packages (from jupyter-server>=1.8->nbclassic>=0.4.7->notebook->jupyter==1.0.0) (3.7.1)\n",
      "Requirement already satisfied: cffi>=1.0.1 in /opt/conda/lib/python3.10/site-packages (from argon2-cffi-bindings->argon2-cffi->notebook->jupyter==1.0.0) (1.15.1)\n",
      "Requirement already satisfied: executing in /opt/conda/lib/python3.10/site-packages (from stack-data->ipython>=7.23.1->ipykernel->jupyter==1.0.0) (0.8.3)\n",
      "Requirement already satisfied: pure-eval in /opt/conda/lib/python3.10/site-packages (from stack-data->ipython>=7.23.1->ipykernel->jupyter==1.0.0) (0.2.2)\n",
      "Requirement already satisfied: asttokens in /opt/conda/lib/python3.10/site-packages (from stack-data->ipython>=7.23.1->ipykernel->jupyter==1.0.0) (2.0.5)\n",
      "Requirement already satisfied: sniffio>=1.1 in /opt/conda/lib/python3.10/site-packages (from anyio>=3.1.0->jupyter-server>=1.8->nbclassic>=0.4.7->notebook->jupyter==1.0.0) (1.3.1)\n",
      "Requirement already satisfied: idna>=2.8 in /opt/conda/lib/python3.10/site-packages (from anyio>=3.1.0->jupyter-server>=1.8->nbclassic>=0.4.7->notebook->jupyter==1.0.0) (3.4)\n",
      "Requirement already satisfied: exceptiongroup in /opt/conda/lib/python3.10/site-packages (from anyio>=3.1.0->jupyter-server>=1.8->nbclassic>=0.4.7->notebook->jupyter==1.0.0) (1.1.1)\n"
     ]
    },
    {
     "name": "stdout",
     "output_type": "stream",
     "text": [
      "Requirement already satisfied: pycparser in /opt/conda/lib/python3.10/site-packages (from cffi>=1.0.1->argon2-cffi-bindings->argon2-cffi->notebook->jupyter==1.0.0) (2.21)\n",
      "Requirement already satisfied: pyyaml>=5.3 in /opt/conda/lib/python3.10/site-packages (from jupyter-events>=0.9.0->jupyter-server>=1.8->nbclassic>=0.4.7->notebook->jupyter==1.0.0) (6.0)\n",
      "Requirement already satisfied: rfc3986-validator>=0.1.1 in /opt/conda/lib/python3.10/site-packages (from jupyter-events>=0.9.0->jupyter-server>=1.8->nbclassic>=0.4.7->notebook->jupyter==1.0.0) (0.1.1)\n",
      "Requirement already satisfied: python-json-logger>=2.0.4 in /opt/conda/lib/python3.10/site-packages (from jupyter-events>=0.9.0->jupyter-server>=1.8->nbclassic>=0.4.7->notebook->jupyter==1.0.0) (2.0.7)\n",
      "Requirement already satisfied: rfc3339-validator in /opt/conda/lib/python3.10/site-packages (from jupyter-events>=0.9.0->jupyter-server>=1.8->nbclassic>=0.4.7->notebook->jupyter==1.0.0) (0.1.4)\n",
      "Requirement already satisfied: webcolors>=1.11 in /opt/conda/lib/python3.10/site-packages (from jsonschema>=2.6->nbformat>=5.7->nbconvert->jupyter==1.0.0) (1.13)\n",
      "Requirement already satisfied: fqdn in /opt/conda/lib/python3.10/site-packages (from jsonschema>=2.6->nbformat>=5.7->nbconvert->jupyter==1.0.0) (1.5.1)\n",
      "Requirement already satisfied: uri-template in /opt/conda/lib/python3.10/site-packages (from jsonschema>=2.6->nbformat>=5.7->nbconvert->jupyter==1.0.0) (1.3.0)\n",
      "Requirement already satisfied: isoduration in /opt/conda/lib/python3.10/site-packages (from jsonschema>=2.6->nbformat>=5.7->nbconvert->jupyter==1.0.0) (20.11.0)\n",
      "Requirement already satisfied: jsonpointer>1.13 in /opt/conda/lib/python3.10/site-packages (from jsonschema>=2.6->nbformat>=5.7->nbconvert->jupyter==1.0.0) (2.1)\n",
      "Requirement already satisfied: arrow>=0.15.0 in /opt/conda/lib/python3.10/site-packages (from isoduration->jsonschema>=2.6->nbformat>=5.7->nbconvert->jupyter==1.0.0) (1.3.0)\n",
      "Requirement already satisfied: types-python-dateutil>=2.8.10 in /opt/conda/lib/python3.10/site-packages (from arrow>=0.15.0->isoduration->jsonschema>=2.6->nbformat>=5.7->nbconvert->jupyter==1.0.0) (2.9.0.20240316)\n",
      "Note: you may need to restart the kernel to use updated packages.\n",
      "Defaulting to user installation because normal site-packages is not writeable\n",
      "Requirement already satisfied: pandas in /home/student/.local/lib/python3.10/site-packages (2.2.3)\n",
      "Requirement already satisfied: numpy>=1.22.4 in /opt/conda/lib/python3.10/site-packages (from pandas) (1.24.3)\n",
      "Requirement already satisfied: tzdata>=2022.7 in /home/student/.local/lib/python3.10/site-packages (from pandas) (2024.2)\n",
      "Requirement already satisfied: pytz>=2020.1 in /opt/conda/lib/python3.10/site-packages (from pandas) (2022.7)\n",
      "Requirement already satisfied: python-dateutil>=2.8.2 in /opt/conda/lib/python3.10/site-packages (from pandas) (2.9.0.post0)\n",
      "Requirement already satisfied: six>=1.5 in /opt/conda/lib/python3.10/site-packages (from python-dateutil>=2.8.2->pandas) (1.16.0)\n",
      "Note: you may need to restart the kernel to use updated packages.\n",
      "Defaulting to user installation because normal site-packages is not writeable\n",
      "\u001b[31mERROR: Could not find a version that satisfies the requirement shutil (from versions: none)\u001b[0m\u001b[31m\n",
      "\u001b[0m\u001b[31mERROR: No matching distribution found for shutil\u001b[0m\u001b[31m\n",
      "\u001b[0mNote: you may need to restart the kernel to use updated packages.\n",
      "Defaulting to user installation because normal site-packages is not writeable\n",
      "Requirement already satisfied: langchain_core in /home/student/.local/lib/python3.10/site-packages (0.3.25)\n",
      "Requirement already satisfied: jsonpatch<2.0,>=1.33 in /opt/conda/lib/python3.10/site-packages (from langchain_core) (1.33)\n",
      "Collecting langsmith<0.3,>=0.1.125\n",
      "  Using cached langsmith-0.2.3-py3-none-any.whl (320 kB)\n",
      "Requirement already satisfied: tenacity!=8.4.0,<10.0.0,>=8.1.0 in /opt/conda/lib/python3.10/site-packages (from langchain_core) (8.3.0)\n",
      "Requirement already satisfied: packaging<25,>=23.2 in /home/student/.local/lib/python3.10/site-packages (from langchain_core) (24.2)\n",
      "Requirement already satisfied: typing-extensions>=4.7 in /home/student/.local/lib/python3.10/site-packages (from langchain_core) (4.12.2)\n",
      "Requirement already satisfied: PyYAML>=5.3 in /opt/conda/lib/python3.10/site-packages (from langchain_core) (6.0)\n",
      "Requirement already satisfied: pydantic<3.0.0,>=2.5.2 in /home/student/.local/lib/python3.10/site-packages (from langchain_core) (2.10.3)\n",
      "Requirement already satisfied: jsonpointer>=1.9 in /opt/conda/lib/python3.10/site-packages (from jsonpatch<2.0,>=1.33->langchain_core) (2.1)\n",
      "Requirement already satisfied: requests-toolbelt<2.0.0,>=1.0.0 in /home/student/.local/lib/python3.10/site-packages (from langsmith<0.3,>=0.1.125->langchain_core) (1.0.0)\n",
      "Requirement already satisfied: httpx<1,>=0.23.0 in /home/student/.local/lib/python3.10/site-packages (from langsmith<0.3,>=0.1.125->langchain_core) (0.28.1)\n",
      "Requirement already satisfied: orjson<4.0.0,>=3.9.14 in /home/student/.local/lib/python3.10/site-packages (from langsmith<0.3,>=0.1.125->langchain_core) (3.10.12)\n",
      "Requirement already satisfied: requests<3,>=2 in /opt/conda/lib/python3.10/site-packages (from langsmith<0.3,>=0.1.125->langchain_core) (2.29.0)\n",
      "Requirement already satisfied: annotated-types>=0.6.0 in /home/student/.local/lib/python3.10/site-packages (from pydantic<3.0.0,>=2.5.2->langchain_core) (0.7.0)\n",
      "Requirement already satisfied: pydantic-core==2.27.1 in /home/student/.local/lib/python3.10/site-packages (from pydantic<3.0.0,>=2.5.2->langchain_core) (2.27.1)\n",
      "Requirement already satisfied: httpcore==1.* in /home/student/.local/lib/python3.10/site-packages (from httpx<1,>=0.23.0->langsmith<0.3,>=0.1.125->langchain_core) (1.0.7)\n",
      "Requirement already satisfied: anyio in /opt/conda/lib/python3.10/site-packages (from httpx<1,>=0.23.0->langsmith<0.3,>=0.1.125->langchain_core) (3.7.1)\n",
      "Requirement already satisfied: idna in /opt/conda/lib/python3.10/site-packages (from httpx<1,>=0.23.0->langsmith<0.3,>=0.1.125->langchain_core) (3.4)\n",
      "Requirement already satisfied: certifi in /opt/conda/lib/python3.10/site-packages (from httpx<1,>=0.23.0->langsmith<0.3,>=0.1.125->langchain_core) (2023.5.7)\n",
      "Requirement already satisfied: h11<0.15,>=0.13 in /opt/conda/lib/python3.10/site-packages (from httpcore==1.*->httpx<1,>=0.23.0->langsmith<0.3,>=0.1.125->langchain_core) (0.14.0)\n",
      "Requirement already satisfied: urllib3<1.27,>=1.21.1 in /opt/conda/lib/python3.10/site-packages (from requests<3,>=2->langsmith<0.3,>=0.1.125->langchain_core) (1.26.15)\n",
      "Requirement already satisfied: charset-normalizer<4,>=2 in /opt/conda/lib/python3.10/site-packages (from requests<3,>=2->langsmith<0.3,>=0.1.125->langchain_core) (2.0.4)\n",
      "Requirement already satisfied: sniffio>=1.1 in /opt/conda/lib/python3.10/site-packages (from anyio->httpx<1,>=0.23.0->langsmith<0.3,>=0.1.125->langchain_core) (1.3.1)\n",
      "Requirement already satisfied: exceptiongroup in /opt/conda/lib/python3.10/site-packages (from anyio->httpx<1,>=0.23.0->langsmith<0.3,>=0.1.125->langchain_core) (1.1.1)\n",
      "Installing collected packages: langsmith\n",
      "  Attempting uninstall: langsmith\n",
      "    Found existing installation: langsmith 0.0.92\n",
      "    Uninstalling langsmith-0.0.92:\n",
      "      Successfully uninstalled langsmith-0.0.92\n",
      "\u001b[33m  WARNING: The script langsmith is installed in '/home/student/.local/bin' which is not on PATH.\n",
      "  Consider adding this directory to PATH or, if you prefer to suppress this warning, use --no-warn-script-location.\u001b[0m\u001b[33m\n",
      "\u001b[0m\u001b[31mERROR: pip's dependency resolver does not currently take into account all the packages that are installed. This behaviour is the source of the following dependency conflicts.\n",
      "langchain 0.0.305 requires langsmith<0.1.0,>=0.0.38, but you have langsmith 0.2.3 which is incompatible.\u001b[0m\u001b[31m\n",
      "\u001b[0mSuccessfully installed langsmith-0.2.3\n",
      "Note: you may need to restart the kernel to use updated packages.\n"
     ]
    }
   ],
   "source": [
    "%pip install langchain==0.0.305\n",
    "%pip install openai==0.28.1\n",
    "%pip install pydantic>=1.10.12\n",
    "%pip install pytest>=7.4.0\n",
    "%pip install sentence-transformers>=2.2.0\n",
    "%pip install transformers>=4.31.0\n",
    "#%pip install chromadb==0.4.18\n",
    "# %pip install chromadb==0.3.29\n",
    "%pip install jupyter==1.0.0\n",
    "%pip install pandas\n",
    "%pip install shutil\n",
    "%pip install langchain_core"
   ]
  },
  {
   "cell_type": "code",
   "execution_count": 2,
   "id": "bd44626f",
   "metadata": {},
   "outputs": [
    {
     "name": "stdout",
     "output_type": "stream",
     "text": [
      "Defaulting to user installation because normal site-packages is not writeable\n",
      "Collecting fastapi==0.111.0\n",
      "  Using cached fastapi-0.111.0-py3-none-any.whl (91 kB)\n",
      "Requirement already satisfied: ujson!=4.0.2,!=4.1.0,!=4.2.0,!=4.3.0,!=5.0.0,!=5.1.0,>=4.0.1 in /home/student/.local/lib/python3.10/site-packages (from fastapi==0.111.0) (5.10.0)\n",
      "Requirement already satisfied: orjson>=3.2.1 in /home/student/.local/lib/python3.10/site-packages (from fastapi==0.111.0) (3.10.12)\n",
      "Requirement already satisfied: email_validator>=2.0.0 in /home/student/.local/lib/python3.10/site-packages (from fastapi==0.111.0) (2.2.0)\n",
      "Requirement already satisfied: python-multipart>=0.0.7 in /home/student/.local/lib/python3.10/site-packages (from fastapi==0.111.0) (0.0.20)\n",
      "Requirement already satisfied: typing-extensions>=4.8.0 in /home/student/.local/lib/python3.10/site-packages (from fastapi==0.111.0) (4.12.2)\n",
      "Requirement already satisfied: jinja2>=2.11.2 in /opt/conda/lib/python3.10/site-packages (from fastapi==0.111.0) (3.1.2)\n",
      "Requirement already satisfied: uvicorn[standard]>=0.12.0 in /opt/conda/lib/python3.10/site-packages (from fastapi==0.111.0) (0.29.0)\n",
      "Requirement already satisfied: httpx>=0.23.0 in /home/student/.local/lib/python3.10/site-packages (from fastapi==0.111.0) (0.28.1)\n",
      "Requirement already satisfied: fastapi-cli>=0.0.2 in /home/student/.local/lib/python3.10/site-packages (from fastapi==0.111.0) (0.0.7)\n",
      "Requirement already satisfied: pydantic!=1.8,!=1.8.1,!=2.0.0,!=2.0.1,!=2.1.0,<3.0.0,>=1.7.4 in /home/student/.local/lib/python3.10/site-packages (from fastapi==0.111.0) (2.10.3)\n",
      "Collecting starlette<0.38.0,>=0.37.2\n",
      "  Using cached starlette-0.37.2-py3-none-any.whl (71 kB)\n",
      "Requirement already satisfied: idna>=2.0.0 in /opt/conda/lib/python3.10/site-packages (from email_validator>=2.0.0->fastapi==0.111.0) (3.4)\n",
      "Requirement already satisfied: dnspython>=2.0.0 in /opt/conda/lib/python3.10/site-packages (from email_validator>=2.0.0->fastapi==0.111.0) (2.3.0)\n",
      "Requirement already satisfied: rich-toolkit>=0.11.1 in /home/student/.local/lib/python3.10/site-packages (from fastapi-cli>=0.0.2->fastapi==0.111.0) (0.12.0)\n",
      "Requirement already satisfied: typer>=0.12.3 in /opt/conda/lib/python3.10/site-packages (from fastapi-cli>=0.0.2->fastapi==0.111.0) (0.12.3)\n",
      "Requirement already satisfied: httpcore==1.* in /home/student/.local/lib/python3.10/site-packages (from httpx>=0.23.0->fastapi==0.111.0) (1.0.7)\n",
      "Requirement already satisfied: certifi in /opt/conda/lib/python3.10/site-packages (from httpx>=0.23.0->fastapi==0.111.0) (2023.5.7)\n",
      "Requirement already satisfied: anyio in /opt/conda/lib/python3.10/site-packages (from httpx>=0.23.0->fastapi==0.111.0) (3.7.1)\n",
      "Requirement already satisfied: h11<0.15,>=0.13 in /opt/conda/lib/python3.10/site-packages (from httpcore==1.*->httpx>=0.23.0->fastapi==0.111.0) (0.14.0)\n",
      "Requirement already satisfied: MarkupSafe>=2.0 in /opt/conda/lib/python3.10/site-packages (from jinja2>=2.11.2->fastapi==0.111.0) (2.1.1)\n",
      "Requirement already satisfied: pydantic-core==2.27.1 in /home/student/.local/lib/python3.10/site-packages (from pydantic!=1.8,!=1.8.1,!=2.0.0,!=2.0.1,!=2.1.0,<3.0.0,>=1.7.4->fastapi==0.111.0) (2.27.1)\n",
      "Requirement already satisfied: annotated-types>=0.6.0 in /home/student/.local/lib/python3.10/site-packages (from pydantic!=1.8,!=1.8.1,!=2.0.0,!=2.0.1,!=2.1.0,<3.0.0,>=1.7.4->fastapi==0.111.0) (0.7.0)\n",
      "Requirement already satisfied: click>=7.0 in /opt/conda/lib/python3.10/site-packages (from uvicorn[standard]>=0.12.0->fastapi==0.111.0) (8.1.7)\n",
      "Requirement already satisfied: httptools>=0.5.0 in /opt/conda/lib/python3.10/site-packages (from uvicorn[standard]>=0.12.0->fastapi==0.111.0) (0.6.1)\n",
      "Requirement already satisfied: pyyaml>=5.1 in /opt/conda/lib/python3.10/site-packages (from uvicorn[standard]>=0.12.0->fastapi==0.111.0) (6.0)\n",
      "Requirement already satisfied: uvloop!=0.15.0,!=0.15.1,>=0.14.0 in /opt/conda/lib/python3.10/site-packages (from uvicorn[standard]>=0.12.0->fastapi==0.111.0) (0.19.0)\n",
      "Requirement already satisfied: python-dotenv>=0.13 in /opt/conda/lib/python3.10/site-packages (from uvicorn[standard]>=0.12.0->fastapi==0.111.0) (1.0.1)\n",
      "Requirement already satisfied: websockets>=10.4 in /opt/conda/lib/python3.10/site-packages (from uvicorn[standard]>=0.12.0->fastapi==0.111.0) (12.0)\n",
      "Requirement already satisfied: watchfiles>=0.13 in /opt/conda/lib/python3.10/site-packages (from uvicorn[standard]>=0.12.0->fastapi==0.111.0) (0.21.0)\n",
      "Requirement already satisfied: sniffio>=1.1 in /opt/conda/lib/python3.10/site-packages (from anyio->httpx>=0.23.0->fastapi==0.111.0) (1.3.1)\n",
      "Requirement already satisfied: exceptiongroup in /opt/conda/lib/python3.10/site-packages (from anyio->httpx>=0.23.0->fastapi==0.111.0) (1.1.1)\n",
      "Requirement already satisfied: rich>=13.7.1 in /opt/conda/lib/python3.10/site-packages (from rich-toolkit>=0.11.1->fastapi-cli>=0.0.2->fastapi==0.111.0) (13.7.1)\n",
      "Requirement already satisfied: shellingham>=1.3.0 in /opt/conda/lib/python3.10/site-packages (from typer>=0.12.3->fastapi-cli>=0.0.2->fastapi==0.111.0) (1.5.4)\n",
      "Requirement already satisfied: markdown-it-py>=2.2.0 in /opt/conda/lib/python3.10/site-packages (from rich>=13.7.1->rich-toolkit>=0.11.1->fastapi-cli>=0.0.2->fastapi==0.111.0) (3.0.0)\n",
      "Requirement already satisfied: pygments<3.0.0,>=2.13.0 in /opt/conda/lib/python3.10/site-packages (from rich>=13.7.1->rich-toolkit>=0.11.1->fastapi-cli>=0.0.2->fastapi==0.111.0) (2.15.1)\n",
      "Requirement already satisfied: mdurl~=0.1 in /opt/conda/lib/python3.10/site-packages (from markdown-it-py>=2.2.0->rich>=13.7.1->rich-toolkit>=0.11.1->fastapi-cli>=0.0.2->fastapi==0.111.0) (0.1.2)\n",
      "Installing collected packages: starlette, fastapi\n",
      "  Attempting uninstall: starlette\n",
      "    Found existing installation: starlette 0.20.4\n",
      "    Uninstalling starlette-0.20.4:\n",
      "      Successfully uninstalled starlette-0.20.4\n",
      "  Attempting uninstall: fastapi\n",
      "    Found existing installation: fastapi 0.85.1\n",
      "    Uninstalling fastapi-0.85.1:\n",
      "      Successfully uninstalled fastapi-0.85.1\n",
      "\u001b[31mERROR: pip's dependency resolver does not currently take into account all the packages that are installed. This behaviour is the source of the following dependency conflicts.\n",
      "chromadb 0.3.29 requires fastapi==0.85.1, but you have fastapi 0.111.0 which is incompatible.\n",
      "chromadb 0.3.29 requires pydantic<2.0,>=1.9, but you have pydantic 2.10.3 which is incompatible.\u001b[0m\u001b[31m\n",
      "\u001b[0mSuccessfully installed fastapi-0.111.0 starlette-0.37.2\n",
      "Note: you may need to restart the kernel to use updated packages.\n"
     ]
    }
   ],
   "source": [
    "%pip install fastapi==0.111.0"
   ]
  },
  {
   "cell_type": "code",
   "execution_count": 3,
   "id": "cc8925ab",
   "metadata": {},
   "outputs": [
    {
     "name": "stdout",
     "output_type": "stream",
     "text": [
      "Defaulting to user installation because normal site-packages is not writeable\n",
      "Requirement already satisfied: chromadb==0.3.29 in /home/student/.local/lib/python3.10/site-packages (0.3.29)\n",
      "Requirement already satisfied: posthog>=2.4.0 in /opt/conda/lib/python3.10/site-packages (from chromadb==0.3.29) (3.5.0)\n",
      "Requirement already satisfied: numpy>=1.21.6 in /opt/conda/lib/python3.10/site-packages (from chromadb==0.3.29) (1.24.3)\n",
      "Requirement already satisfied: pandas>=1.3 in /home/student/.local/lib/python3.10/site-packages (from chromadb==0.3.29) (2.2.3)\n",
      "Requirement already satisfied: overrides>=7.3.1 in /opt/conda/lib/python3.10/site-packages (from chromadb==0.3.29) (7.7.0)\n",
      "Requirement already satisfied: pulsar-client>=3.1.0 in /opt/conda/lib/python3.10/site-packages (from chromadb==0.3.29) (3.5.0)\n",
      "Requirement already satisfied: requests>=2.28 in /opt/conda/lib/python3.10/site-packages (from chromadb==0.3.29) (2.29.0)\n",
      "Requirement already satisfied: duckdb>=0.7.1 in /home/student/.local/lib/python3.10/site-packages (from chromadb==0.3.29) (1.1.3)\n",
      "Requirement already satisfied: uvicorn[standard]>=0.18.3 in /opt/conda/lib/python3.10/site-packages (from chromadb==0.3.29) (0.29.0)\n",
      "Collecting fastapi==0.85.1\n",
      "  Using cached fastapi-0.85.1-py3-none-any.whl (55 kB)\n",
      "Requirement already satisfied: hnswlib>=0.7 in /home/student/.local/lib/python3.10/site-packages (from chromadb==0.3.29) (0.8.0)\n",
      "Requirement already satisfied: typing-extensions>=4.5.0 in /home/student/.local/lib/python3.10/site-packages (from chromadb==0.3.29) (4.12.2)\n",
      "Requirement already satisfied: tqdm>=4.65.0 in /opt/conda/lib/python3.10/site-packages (from chromadb==0.3.29) (4.65.0)\n",
      "Requirement already satisfied: clickhouse-connect>=0.5.7 in /home/student/.local/lib/python3.10/site-packages (from chromadb==0.3.29) (0.8.10)\n",
      "Requirement already satisfied: tokenizers>=0.13.2 in /opt/conda/lib/python3.10/site-packages (from chromadb==0.3.29) (0.13.3)\n",
      "Requirement already satisfied: onnxruntime>=1.14.1 in /opt/conda/lib/python3.10/site-packages (from chromadb==0.3.29) (1.18.0)\n",
      "Collecting pydantic<2.0,>=1.9\n",
      "  Using cached pydantic-1.10.19-cp310-cp310-manylinux_2_17_x86_64.manylinux2014_x86_64.whl (3.1 MB)\n",
      "Collecting starlette==0.20.4\n",
      "  Using cached starlette-0.20.4-py3-none-any.whl (63 kB)\n",
      "Requirement already satisfied: anyio<5,>=3.4.0 in /opt/conda/lib/python3.10/site-packages (from starlette==0.20.4->fastapi==0.85.1->chromadb==0.3.29) (3.7.1)\n",
      "Requirement already satisfied: urllib3>=1.26 in /opt/conda/lib/python3.10/site-packages (from clickhouse-connect>=0.5.7->chromadb==0.3.29) (1.26.15)\n",
      "Requirement already satisfied: pytz in /opt/conda/lib/python3.10/site-packages (from clickhouse-connect>=0.5.7->chromadb==0.3.29) (2022.7)\n",
      "Requirement already satisfied: lz4 in /home/student/.local/lib/python3.10/site-packages (from clickhouse-connect>=0.5.7->chromadb==0.3.29) (4.3.3)\n",
      "Requirement already satisfied: certifi in /opt/conda/lib/python3.10/site-packages (from clickhouse-connect>=0.5.7->chromadb==0.3.29) (2023.5.7)\n",
      "Requirement already satisfied: zstandard in /opt/conda/lib/python3.10/site-packages (from clickhouse-connect>=0.5.7->chromadb==0.3.29) (0.19.0)\n",
      "Requirement already satisfied: packaging in /home/student/.local/lib/python3.10/site-packages (from onnxruntime>=1.14.1->chromadb==0.3.29) (24.2)\n",
      "Requirement already satisfied: protobuf in /opt/conda/lib/python3.10/site-packages (from onnxruntime>=1.14.1->chromadb==0.3.29) (5.26.1)\n",
      "Requirement already satisfied: flatbuffers in /opt/conda/lib/python3.10/site-packages (from onnxruntime>=1.14.1->chromadb==0.3.29) (24.3.25)\n",
      "Requirement already satisfied: sympy in /opt/conda/lib/python3.10/site-packages (from onnxruntime>=1.14.1->chromadb==0.3.29) (1.12)\n",
      "Requirement already satisfied: coloredlogs in /opt/conda/lib/python3.10/site-packages (from onnxruntime>=1.14.1->chromadb==0.3.29) (15.0.1)\n",
      "Requirement already satisfied: python-dateutil>=2.8.2 in /opt/conda/lib/python3.10/site-packages (from pandas>=1.3->chromadb==0.3.29) (2.9.0.post0)\n",
      "Requirement already satisfied: tzdata>=2022.7 in /home/student/.local/lib/python3.10/site-packages (from pandas>=1.3->chromadb==0.3.29) (2024.2)\n",
      "Requirement already satisfied: six>=1.5 in /opt/conda/lib/python3.10/site-packages (from posthog>=2.4.0->chromadb==0.3.29) (1.16.0)\n",
      "Requirement already satisfied: monotonic>=1.5 in /opt/conda/lib/python3.10/site-packages (from posthog>=2.4.0->chromadb==0.3.29) (1.6)\n",
      "Requirement already satisfied: backoff>=1.10.0 in /opt/conda/lib/python3.10/site-packages (from posthog>=2.4.0->chromadb==0.3.29) (2.2.1)\n",
      "Requirement already satisfied: idna<4,>=2.5 in /opt/conda/lib/python3.10/site-packages (from requests>=2.28->chromadb==0.3.29) (3.4)\n",
      "Requirement already satisfied: charset-normalizer<4,>=2 in /opt/conda/lib/python3.10/site-packages (from requests>=2.28->chromadb==0.3.29) (2.0.4)\n",
      "Requirement already satisfied: click>=7.0 in /opt/conda/lib/python3.10/site-packages (from uvicorn[standard]>=0.18.3->chromadb==0.3.29) (8.1.7)\n",
      "Requirement already satisfied: h11>=0.8 in /opt/conda/lib/python3.10/site-packages (from uvicorn[standard]>=0.18.3->chromadb==0.3.29) (0.14.0)\n",
      "Requirement already satisfied: python-dotenv>=0.13 in /opt/conda/lib/python3.10/site-packages (from uvicorn[standard]>=0.18.3->chromadb==0.3.29) (1.0.1)\n",
      "Requirement already satisfied: httptools>=0.5.0 in /opt/conda/lib/python3.10/site-packages (from uvicorn[standard]>=0.18.3->chromadb==0.3.29) (0.6.1)\n",
      "Requirement already satisfied: websockets>=10.4 in /opt/conda/lib/python3.10/site-packages (from uvicorn[standard]>=0.18.3->chromadb==0.3.29) (12.0)\n",
      "Requirement already satisfied: uvloop!=0.15.0,!=0.15.1,>=0.14.0 in /opt/conda/lib/python3.10/site-packages (from uvicorn[standard]>=0.18.3->chromadb==0.3.29) (0.19.0)\n",
      "Requirement already satisfied: pyyaml>=5.1 in /opt/conda/lib/python3.10/site-packages (from uvicorn[standard]>=0.18.3->chromadb==0.3.29) (6.0)\n",
      "Requirement already satisfied: watchfiles>=0.13 in /opt/conda/lib/python3.10/site-packages (from uvicorn[standard]>=0.18.3->chromadb==0.3.29) (0.21.0)\n",
      "Requirement already satisfied: humanfriendly>=9.1 in /opt/conda/lib/python3.10/site-packages (from coloredlogs->onnxruntime>=1.14.1->chromadb==0.3.29) (10.0)\n",
      "Requirement already satisfied: mpmath>=0.19 in /opt/conda/lib/python3.10/site-packages (from sympy->onnxruntime>=1.14.1->chromadb==0.3.29) (1.3.0)\n",
      "Requirement already satisfied: exceptiongroup in /opt/conda/lib/python3.10/site-packages (from anyio<5,>=3.4.0->starlette==0.20.4->fastapi==0.85.1->chromadb==0.3.29) (1.1.1)\n",
      "Requirement already satisfied: sniffio>=1.1 in /opt/conda/lib/python3.10/site-packages (from anyio<5,>=3.4.0->starlette==0.20.4->fastapi==0.85.1->chromadb==0.3.29) (1.3.1)\n",
      "Installing collected packages: pydantic, starlette, fastapi\n",
      "  Attempting uninstall: pydantic\n",
      "    Found existing installation: pydantic 2.10.3\n",
      "    Uninstalling pydantic-2.10.3:\n",
      "      Successfully uninstalled pydantic-2.10.3\n",
      "  Attempting uninstall: starlette\n",
      "    Found existing installation: starlette 0.37.2\n",
      "    Uninstalling starlette-0.37.2:\n",
      "      Successfully uninstalled starlette-0.37.2\n",
      "  Attempting uninstall: fastapi\n",
      "    Found existing installation: fastapi 0.111.0\n",
      "    Uninstalling fastapi-0.111.0:\n",
      "      Successfully uninstalled fastapi-0.111.0\n",
      "\u001b[31mERROR: pip's dependency resolver does not currently take into account all the packages that are installed. This behaviour is the source of the following dependency conflicts.\n",
      "langchain-core 0.3.25 requires pydantic<3.0.0,>=2.5.2; python_full_version < \"3.12.4\", but you have pydantic 1.10.19 which is incompatible.\n",
      "langchain 0.0.305 requires langsmith<0.1.0,>=0.0.38, but you have langsmith 0.2.3 which is incompatible.\u001b[0m\u001b[31m\n",
      "\u001b[0mSuccessfully installed fastapi-0.85.1 pydantic-1.10.19 starlette-0.20.4\n",
      "Note: you may need to restart the kernel to use updated packages.\n"
     ]
    }
   ],
   "source": [
    "%pip install chromadb==0.3.29"
   ]
  },
  {
   "cell_type": "markdown",
   "id": "1063e9ab",
   "metadata": {},
   "source": [
    "IMPORTANT NOTE\n",
    "- To get the ChromaDB working, must select verion of ChromaDB to: <font color='red'>%pip install chromadb==0.3.29</font>\n",
    "- Unless ChromaDB should not be able to persist the embeddings\n",
    "- Reference: https://knowledge.udacity.com/questions/1051586"
   ]
  },
  {
   "cell_type": "code",
   "execution_count": 4,
   "id": "893fe06f",
   "metadata": {},
   "outputs": [],
   "source": [
    "import os\n",
    "\n",
    "OPENAI_API_KEY = \"OPEN API KEY\"\n",
    "MODEL_NAME = 'gpt-3.5-turbo'\n",
    "from langchain.llms import OpenAI"
   ]
  },
  {
   "cell_type": "code",
   "execution_count": 5,
   "id": "af972b4b",
   "metadata": {},
   "outputs": [],
   "source": [
    "os.environ[\"OPENAI_API_KEY\"] = \"OPEN API KEY\"\n",
    "os.environ[\"OPENAI_API_BASE\"] = \"https://openai.vocareum.com/v1\""
   ]
  },
  {
   "cell_type": "code",
   "execution_count": 6,
   "id": "625223d5",
   "metadata": {},
   "outputs": [
    {
     "name": "stderr",
     "output_type": "stream",
     "text": [
      "/opt/conda/lib/python3.10/site-packages/IPython/core/interactiveshell.py:3505: LangChainDeprecationWarning: As of langchain-core 0.3.0, LangChain uses pydantic v2 internally. The langchain_core.pydantic_v1 module was a compatibility shim for pydantic v1, and should no longer be used. Please update the code to import from Pydantic directly.\n",
      "\n",
      "For example, replace imports like: `from langchain_core.pydantic_v1 import BaseModel`\n",
      "with: `from pydantic import BaseModel`\n",
      "or the v1 compatibility namespace if you are working in a code base that has not been fully upgraded to pydantic 2 yet. \tfrom pydantic.v1 import BaseModel\n",
      "\n",
      "  exec(code_obj, self.user_global_ns, self.user_ns)\n"
     ]
    }
   ],
   "source": [
    "import os\n",
    "import pandas as pd\n",
    "import shutil\n",
    "\n",
    "from langchain.embeddings import OpenAIEmbeddings\n",
    "from langchain.text_splitter import RecursiveCharacterTextSplitter\n",
    "from langchain.schema import Document\n",
    "from langchain.vectorstores.chroma import Chroma\n",
    "from langchain.chat_models import ChatOpenAI\n",
    "from langchain.prompts import ChatPromptTemplate\n",
    "\n",
    "from typing import List\n",
    "from langchain.output_parsers import PydanticOutputParser\n",
    "from langchain_core.pydantic_v1 import BaseModel, Field, NonNegativeInt\n",
    "from langchain.prompts import PromptTemplate\n",
    "from fastapi.encoders import jsonable_encoder"
   ]
  },
  {
   "cell_type": "markdown",
   "id": "60a9dc29",
   "metadata": {},
   "source": [
    "### <font color='green'>Load the LLM and instruction</font>"
   ]
  },
  {
   "cell_type": "code",
   "execution_count": 7,
   "id": "fd2f70e2",
   "metadata": {},
   "outputs": [
    {
     "name": "stderr",
     "output_type": "stream",
     "text": [
      "/opt/conda/lib/python3.10/site-packages/langchain/llms/openai.py:202: UserWarning: You are trying to use a chat model. This way of initializing it is no longer supported. Instead, please use: `from langchain.chat_models import ChatOpenAI`\n",
      "  warnings.warn(\n",
      "/opt/conda/lib/python3.10/site-packages/langchain/llms/openai.py:790: UserWarning: You are trying to use a chat model. This way of initializing it is no longer supported. Instead, please use: `from langchain.chat_models import ChatOpenAI`\n",
      "  warnings.warn(\n"
     ]
    }
   ],
   "source": [
    "# load the model\n",
    "llm = OpenAI(model_name=MODEL_NAME, \n",
    "                 temperature=0, \n",
    "                 openai_api_key=OPENAI_API_KEY)\n",
    "\n",
    "INSTRUCTION = \"Generate a CSV file with at least 10 real estate listings.\"\n",
    "SAMPLE_LISTING = \"\"\"\n",
    "Neighborhood: Green Oaks\n",
    "Price: $800,000\n",
    "Bedrooms: 3\n",
    "Bathrooms: 2\n",
    "House Size: 2,000 sqft\n",
    "\n",
    "Description: Welcome to this eco-friendly oasis nestled in the heart of Green Oaks. This charming 3-bedroom, 2-bathroom home boasts energy-efficient features such as solar panels and a well-insulated structure. Natural light floods the living spaces, highlighting the beautiful hardwood floors and eco-conscious finishes. The open-concept kitchen and dining area lead to a spacious backyard with a vegetable garden, perfect for the eco-conscious family. Embrace sustainable living without compromising on style in this Green Oaks gem.\n",
    "\n",
    "Neighborhood Description: Green Oaks is a close-knit, environmentally-conscious community with access to organic grocery stores, community gardens, and bike paths. Take a stroll through the nearby Green Oaks Park or grab a cup of coffee at the cozy Green Bean Cafe. With easy access to public transportation and bike lanes, commuting is a breeze.\n",
    "\"\"\""
   ]
  },
  {
   "cell_type": "code",
   "execution_count": 8,
   "id": "22dde85f",
   "metadata": {},
   "outputs": [],
   "source": [
    "class PropertyCharacteristics(BaseModel):\n",
    "    \"\"\"\n",
    "    The list characteristics that an estate had\n",
    "    - neighborhood: The neighborhood where the property is located\n",
    "    - price: The price in USD\n",
    "    - bedrooms: The number of bedrooms\n",
    "    - bathrooms: The number of bathrooms\n",
    "    - house_size: The area of the house in square feet\n",
    "    - description: The short description about the property\n",
    "    - neighborhood_description: The short description about the neighborhood\n",
    "    \"\"\"\n",
    "    neighborhood: str = Field(..., description=\"The neighborhood where the property is located\")\n",
    "    price: NonNegativeInt = Field(..., description=\"The price of the property in USD\")\n",
    "    bedrooms: NonNegativeInt = Field(..., description=\"The number of bedrooms in the property\")\n",
    "    bathrooms: NonNegativeInt = Field(..., description=\"The number of bathrooms in the property\")\n",
    "    house_size: NonNegativeInt = Field(..., description=\"The size of the house in square feet\")\n",
    "    description: str = Field(..., description=\"A description of the property\")\n",
    "    neighborhood_description: str = Field(..., description=\"A description of the neighborhood.\")  \n",
    "\n",
    "class ListCharacteristics(BaseModel):\n",
    "    \"\"\"\n",
    "    List of property characteristics that inherit from class PropertyCharacteristics\n",
    "    - listings: List[ListCharacteristics]\n",
    "    \"\"\"\n",
    "    listings: List[PropertyCharacteristics] = Field(..., description=\"A list of real estate listings\")"
   ]
  },
  {
   "cell_type": "code",
   "execution_count": 9,
   "id": "e0687a32",
   "metadata": {},
   "outputs": [],
   "source": [
    "# Format the parsed output to force model output as defined\n",
    "parser = PydanticOutputParser(pydantic_object=ListCharacteristics)"
   ]
  },
  {
   "cell_type": "code",
   "execution_count": 10,
   "id": "da9c1e83",
   "metadata": {},
   "outputs": [
    {
     "data": {
      "text/plain": [
       "PydanticOutputParser(pydantic_object=<class '__main__.ListCharacteristics'>)"
      ]
     },
     "execution_count": 10,
     "metadata": {},
     "output_type": "execute_result"
    }
   ],
   "source": [
    "parser"
   ]
  },
  {
   "cell_type": "code",
   "execution_count": 11,
   "id": "ff3d3f57",
   "metadata": {},
   "outputs": [
    {
     "data": {
      "text/plain": [
       "'The output should be formatted as a JSON instance that conforms to the JSON schema below.\\n\\nAs an example, for the schema {\"properties\": {\"foo\": {\"title\": \"Foo\", \"description\": \"a list of strings\", \"type\": \"array\", \"items\": {\"type\": \"string\"}}}, \"required\": [\"foo\"]}\\nthe object {\"foo\": [\"bar\", \"baz\"]} is a well-formatted instance of the schema. The object {\"properties\": {\"foo\": [\"bar\", \"baz\"]}} is not well-formatted.\\n\\nHere is the output schema:\\n```\\n{\"description\": \"List of property characteristics that inherit from class PropertyCharacteristics\\\\n- listings: List[ListCharacteristics]\", \"properties\": {\"listings\": {\"title\": \"Listings\", \"description\": \"A list of real estate listings\", \"type\": \"array\", \"items\": {\"$ref\": \"#/definitions/PropertyCharacteristics\"}}}, \"required\": [\"listings\"], \"definitions\": {\"PropertyCharacteristics\": {\"title\": \"PropertyCharacteristics\", \"description\": \"The list characteristics that an estate had\\\\n- neighborhood: The neighborhood where the property is located\\\\n- price: The price in USD\\\\n- bedrooms: The number of bedrooms\\\\n- bathrooms: The number of bathrooms\\\\n- house_size: The area of the house in square feet\\\\n- description: The short description about the property\\\\n- neighborhood_description: The short description about the neighborhood\", \"type\": \"object\", \"properties\": {\"neighborhood\": {\"title\": \"Neighborhood\", \"description\": \"The neighborhood where the property is located\", \"type\": \"string\"}, \"price\": {\"title\": \"Price\", \"description\": \"The price of the property in USD\", \"minimum\": 0, \"type\": \"integer\"}, \"bedrooms\": {\"title\": \"Bedrooms\", \"description\": \"The number of bedrooms in the property\", \"minimum\": 0, \"type\": \"integer\"}, \"bathrooms\": {\"title\": \"Bathrooms\", \"description\": \"The number of bathrooms in the property\", \"minimum\": 0, \"type\": \"integer\"}, \"house_size\": {\"title\": \"House Size\", \"description\": \"The size of the house in square feet\", \"minimum\": 0, \"type\": \"integer\"}, \"description\": {\"title\": \"Description\", \"description\": \"A description of the property\", \"type\": \"string\"}, \"neighborhood_description\": {\"title\": \"Neighborhood Description\", \"description\": \"A description of the neighborhood.\", \"type\": \"string\"}}, \"required\": [\"neighborhood\", \"price\", \"bedrooms\", \"bathrooms\", \"house_size\", \"description\", \"neighborhood_description\"]}}}\\n```'"
      ]
     },
     "execution_count": 11,
     "metadata": {},
     "output_type": "execute_result"
    }
   ],
   "source": [
    "# let see how the format instruction looks like\n",
    "parser.get_format_instructions()"
   ]
  },
  {
   "cell_type": "markdown",
   "id": "b7de1959",
   "metadata": {},
   "source": [
    "# <font color='green'>Step 2: Generating Real Estate Listings</font>"
   ]
  },
  {
   "cell_type": "code",
   "execution_count": 12,
   "id": "0a85e10a",
   "metadata": {},
   "outputs": [
    {
     "name": "stdout",
     "output_type": "stream",
     "text": [
      "Generate a CSV file with at least 10 real estate listings.\n",
      "\n",
      "Neighborhood: Green Oaks\n",
      "Price: $800,000\n",
      "Bedrooms: 3\n",
      "Bathrooms: 2\n",
      "House Size: 2,000 sqft\n",
      "\n",
      "Description: Welcome to this eco-friendly oasis nestled in the heart of Green Oaks. This charming 3-bedroom, 2-bathroom home boasts energy-efficient features such as solar panels and a well-insulated structure. Natural light floods the living spaces, highlighting the beautiful hardwood floors and eco-conscious finishes. The open-concept kitchen and dining area lead to a spacious backyard with a vegetable garden, perfect for the eco-conscious family. Embrace sustainable living without compromising on style in this Green Oaks gem.\n",
      "\n",
      "Neighborhood Description: Green Oaks is a close-knit, environmentally-conscious community with access to organic grocery stores, community gardens, and bike paths. Take a stroll through the nearby Green Oaks Park or grab a cup of coffee at the cozy Green Bean Cafe. With easy access to public transportation and bike lanes, commuting is a breeze.\n",
      "\n",
      "The output should be formatted as a JSON instance that conforms to the JSON schema below.\n",
      "\n",
      "As an example, for the schema {\"properties\": {\"foo\": {\"title\": \"Foo\", \"description\": \"a list of strings\", \"type\": \"array\", \"items\": {\"type\": \"string\"}}}, \"required\": [\"foo\"]}\n",
      "the object {\"foo\": [\"bar\", \"baz\"]} is a well-formatted instance of the schema. The object {\"properties\": {\"foo\": [\"bar\", \"baz\"]}} is not well-formatted.\n",
      "\n",
      "Here is the output schema:\n",
      "```\n",
      "{\"description\": \"List of property characteristics that inherit from class PropertyCharacteristics\\n- listings: List[ListCharacteristics]\", \"properties\": {\"listings\": {\"title\": \"Listings\", \"description\": \"A list of real estate listings\", \"type\": \"array\", \"items\": {\"$ref\": \"#/definitions/PropertyCharacteristics\"}}}, \"required\": [\"listings\"], \"definitions\": {\"PropertyCharacteristics\": {\"title\": \"PropertyCharacteristics\", \"description\": \"The list characteristics that an estate had\\n- neighborhood: The neighborhood where the property is located\\n- price: The price in USD\\n- bedrooms: The number of bedrooms\\n- bathrooms: The number of bathrooms\\n- house_size: The area of the house in square feet\\n- description: The short description about the property\\n- neighborhood_description: The short description about the neighborhood\", \"type\": \"object\", \"properties\": {\"neighborhood\": {\"title\": \"Neighborhood\", \"description\": \"The neighborhood where the property is located\", \"type\": \"string\"}, \"price\": {\"title\": \"Price\", \"description\": \"The price of the property in USD\", \"minimum\": 0, \"type\": \"integer\"}, \"bedrooms\": {\"title\": \"Bedrooms\", \"description\": \"The number of bedrooms in the property\", \"minimum\": 0, \"type\": \"integer\"}, \"bathrooms\": {\"title\": \"Bathrooms\", \"description\": \"The number of bathrooms in the property\", \"minimum\": 0, \"type\": \"integer\"}, \"house_size\": {\"title\": \"House Size\", \"description\": \"The size of the house in square feet\", \"minimum\": 0, \"type\": \"integer\"}, \"description\": {\"title\": \"Description\", \"description\": \"A description of the property\", \"type\": \"string\"}, \"neighborhood_description\": {\"title\": \"Neighborhood Description\", \"description\": \"A description of the neighborhood.\", \"type\": \"string\"}}, \"required\": [\"neighborhood\", \"price\", \"bedrooms\", \"bathrooms\", \"house_size\", \"description\", \"neighborhood_description\"]}}}\n",
      "```\n",
      "\n"
     ]
    }
   ],
   "source": [
    "# check the prompt\n",
    "prompt = PromptTemplate(\n",
    "    template=\"{instruction}\\n{sample}\\n{format_instructions}\\n\",\n",
    "    input_variables=[\"instruction\", \"sample\"],\n",
    "    partial_variables={\"format_instructions\": parser.get_format_instructions},\n",
    ")\n",
    "\n",
    "query = prompt.format(\n",
    "    instruction=INSTRUCTION,\n",
    "    sample=SAMPLE_LISTING,\n",
    ")\n",
    "print(query)"
   ]
  },
  {
   "cell_type": "code",
   "execution_count": 13,
   "id": "be27ea2d",
   "metadata": {},
   "outputs": [],
   "source": [
    "# get the response\n",
    "response = llm.predict(query)"
   ]
  },
  {
   "cell_type": "code",
   "execution_count": 14,
   "id": "d9f5d212",
   "metadata": {},
   "outputs": [
    {
     "data": {
      "text/plain": [
       "'{\\n  \"listings\": [\\n    {\\n      \"neighborhood\": \"Green Oaks\",\\n      \"price\": 800000,\\n      \"bedrooms\": 3,\\n      \"bathrooms\": 2,\\n      \"house_size\": 2000,\\n      \"description\": \"Welcome to this eco-friendly oasis nestled in the heart of Green Oaks. This charming 3-bedroom, 2-bathroom home boasts energy-efficient features such as solar panels and a well-insulated structure. Natural light floods the living spaces, highlighting the beautiful hardwood floors and eco-conscious finishes. The open-concept kitchen and dining area lead to a spacious backyard with a vegetable garden, perfect for the eco-conscious family. Embrace sustainable living without compromising on style in this Green Oaks gem.\",\\n      \"neighborhood_description\": \"Green Oaks is a close-knit, environmentally-conscious community with access to organic grocery stores, community gardens, and bike paths. Take a stroll through the nearby Green Oaks Park or grab a cup of coffee at the cozy Green Bean Cafe. With easy access to public transportation and bike lanes, commuting is a breeze.\"\\n    },\\n    {\\n      \"neighborhood\": \"Downtown Loft District\",\\n      \"price\": 1200000,\\n      \"bedrooms\": 2,\\n      \"bathrooms\": 2,\\n      \"house_size\": 1800,\\n      \"description\": \"Luxury loft living in the heart of the vibrant Downtown Loft District. This 2-bedroom, 2-bathroom loft features high ceilings, exposed brick walls, and floor-to-ceiling windows offering stunning city views. The modern kitchen is perfect for entertaining, and the spacious master suite includes a walk-in closet and spa-like bathroom. Enjoy the convenience of living within walking distance to top restaurants, shops, and entertainment venues.\",\\n      \"neighborhood_description\": \"The Downtown Loft District is a bustling neighborhood known for its trendy restaurants, art galleries, and nightlife. Residents enjoy easy access to public transportation and a vibrant urban lifestyle.\"\\n    },\\n    {\\n      \"neighborhood\": \"Suburban Meadows\",\\n      \"price\": 600000,\\n      \"bedrooms\": 4,\\n      \"bathrooms\": 3,\\n      \"house_size\": 2500,\\n      \"description\": \"Spacious family home in the desirable Suburban Meadows neighborhood. This 4-bedroom, 3-bathroom home features a large backyard with a deck, perfect for outdoor entertaining. The open-concept living area includes a cozy fireplace and a gourmet kitchen with stainless steel appliances. The master suite offers a private retreat with a luxurious en-suite bathroom and walk-in closet.\",\\n      \"neighborhood_description\": \"Suburban Meadows is a family-friendly neighborhood with top-rated schools, parks, and community events. Enjoy the peace and quiet of suburban living while still being close to shopping and dining options.\"\\n    },\\n    {\\n      \"neighborhood\": \"Waterfront Estates\",\\n      \"price\": 1500000,\\n      \"bedrooms\": 5,\\n      \"bathrooms\": 4,\\n      \"house_size\": 4000,\\n      \"description\": \"Live the waterfront lifestyle in this stunning 5-bedroom, 4-bathroom estate. This luxurious home features panoramic water views, a private dock, and a spacious outdoor living area with a pool and hot tub. The gourmet kitchen is a chef\\'s dream with high-end appliances and a large island for entertaining. The master suite includes a private balcony overlooking the water and a spa-like bathroom.\",\\n      \"neighborhood_description\": \"Waterfront Estates is an exclusive waterfront community with private boat docks, walking trails, and upscale dining options. Residents enjoy a resort-style living experience with breathtaking views of the water.\"\\n    },\\n    {\\n      \"neighborhood\": \"Mountain Retreat\",\\n      \"price\": 700000,\\n      \"bedrooms\": 3,\\n      \"bathrooms\": 2,\\n      \"house_size\": 2200,\\n      \"description\": \"Escape to this peaceful mountain retreat nestled in the scenic mountains. This 3-bedroom, 2-bathroom home features a cozy fireplace, vaulted ceilings, and a wrap-around deck with mountain views. The open-concept living area is perfect for relaxing or entertaining, and the spacious master suite offers a private sanctuary with a jetted tub and walk-in closet.\",\\n      \"neighborhood_description\": \"Mountain Retreat is a tranquil mountain community with hiking trails, wildlife, and stunning views. Enjoy the serenity of nature while still being close to shopping and dining options.\"\\n    },\\n    {\\n      \"neighborhood\": \"Historic District\",\\n      \"price\": 900000,\\n      \"bedrooms\": 4,\\n      \"bathrooms\": 3,\\n      \"house_size\": 2800,\\n      \"description\": \"Step back in time with this historic 4-bedroom, 3-bathroom home in the charming Historic District. This beautifully restored home features original hardwood floors, crown molding, and a grand staircase. The updated kitchen includes modern appliances and a breakfast nook, while the master suite offers a private balcony and en-suite bathroom.\",\\n      \"neighborhood_description\": \"The Historic District is a picturesque neighborhood with tree-lined streets, historic homes, and boutique shops. Residents enjoy a sense of community and a connection to the area\\'s rich history.\"\\n    },\\n    {\\n      \"neighborhood\": \"Beachfront Paradise\",\\n      \"price\": 2000000,\\n      \"bedrooms\": 6,\\n      \"bathrooms\": 5,\\n      \"house_size\": 5000,\\n      \"description\": \"Experience luxury beachfront living in this 6-bedroom, 5-bathroom paradise. This custom-built home features a private beach access, infinity pool, and outdoor kitchen for entertaining. The open-concept living area offers panoramic ocean views, while the master suite includes a private balcony and a spa-like bathroom with a soaking tub.\",\\n      \"neighborhood_description\": \"Beachfront Paradise is a prestigious beachfront community with private beach access, upscale dining options, and beachfront activities. Residents enjoy a resort-style living experience with stunning views of the ocean.\"\\n    },\\n    {\\n      \"neighborhood\": \"Golf Course Community\",\\n      \"price\": 750000,\\n      \"bedrooms\": 4,\\n      \"bathrooms\": 3,\\n      \"house_size\": 2600,\\n      \"description\": \"Live the golf course lifestyle in this 4-bedroom, 3-bathroom home in the Golf Course Community. This spacious home features a gourmet kitchen, formal dining room, and a cozy family room with a fireplace. The master suite offers a private retreat with a walk-in closet and a luxurious en-suite bathroom.\",\\n      \"neighborhood_description\": \"The Golf Course Community is a golf lover\\'s paradise with access to a championship golf course, clubhouse, and golf events. Residents enjoy a peaceful setting with scenic views of the fairways and greens.\"\\n    },\\n    {\\n      \"neighborhood\": \"Urban Condo Living\",\\n      \"price\": 500000,\\n      \"bedrooms\": 2,\\n      \"bathrooms\": 1,\\n      \"house_size\": 1200,\\n      \"description\": \"Experience urban living at its finest in this 2-bedroom, 1-bathroom condo. This modern condo features an open floor plan, high ceilings, and floor-to-ceiling windows offering city views. The sleek kitchen includes stainless steel appliances and a breakfast bar, while the master bedroom offers a walk-in closet and access to a private balcony.\",\\n      \"neighborhood_description\": \"Urban Condo Living is a vibrant urban neighborhood with trendy restaurants, shops, and entertainment venues. Residents enjoy the convenience of city living with easy access to public transportation and cultural attractions.\"\\n    },\\n    {\\n      \"neighborhood\": \"Lakefront Retreat\",\\n      \"price\": 1000000,\\n      \"bedrooms\": 3,\\n      \"bathrooms\": 2,\\n      \"house_size\": 1800,\\n      \"description\": \"Escape to this serene lakefront retreat in the peaceful Lakefront Retreat neighborhood. This 3-bedroom, 2-bathroom home features a private dock, screened porch, and outdoor fire pit for relaxing by the water. The open-concept living area includes a cozy fireplace and a gourmet kitchen with granite countertops. The master suite offers a private oasis with lake views and a spa-like bathroom.\",\\n      \"neighborhood_description\": \"Lakefront Retreat is a tranquil lakefront community with fishing, boating, and water activities. Residents enjoy the beauty of the lake and the peaceful surroundings of nature.\"\\n    }\\n  ]\\n}'"
      ]
     },
     "execution_count": 14,
     "metadata": {},
     "output_type": "execute_result"
    }
   ],
   "source": [
    "response"
   ]
  },
  {
   "cell_type": "code",
   "execution_count": 15,
   "id": "883c67f7",
   "metadata": {},
   "outputs": [
    {
     "data": {
      "text/plain": [
       "ListCharacteristics(listings=[PropertyCharacteristics(neighborhood='Green Oaks', price=800000, bedrooms=3, bathrooms=2, house_size=2000, description='Welcome to this eco-friendly oasis nestled in the heart of Green Oaks. This charming 3-bedroom, 2-bathroom home boasts energy-efficient features such as solar panels and a well-insulated structure. Natural light floods the living spaces, highlighting the beautiful hardwood floors and eco-conscious finishes. The open-concept kitchen and dining area lead to a spacious backyard with a vegetable garden, perfect for the eco-conscious family. Embrace sustainable living without compromising on style in this Green Oaks gem.', neighborhood_description='Green Oaks is a close-knit, environmentally-conscious community with access to organic grocery stores, community gardens, and bike paths. Take a stroll through the nearby Green Oaks Park or grab a cup of coffee at the cozy Green Bean Cafe. With easy access to public transportation and bike lanes, commuting is a breeze.'), PropertyCharacteristics(neighborhood='Downtown Loft District', price=1200000, bedrooms=2, bathrooms=2, house_size=1800, description='Luxury loft living in the heart of the vibrant Downtown Loft District. This 2-bedroom, 2-bathroom loft features high ceilings, exposed brick walls, and floor-to-ceiling windows offering stunning city views. The modern kitchen is perfect for entertaining, and the spacious master suite includes a walk-in closet and spa-like bathroom. Enjoy the convenience of living within walking distance to top restaurants, shops, and entertainment venues.', neighborhood_description='The Downtown Loft District is a bustling neighborhood known for its trendy restaurants, art galleries, and nightlife. Residents enjoy easy access to public transportation and a vibrant urban lifestyle.'), PropertyCharacteristics(neighborhood='Suburban Meadows', price=600000, bedrooms=4, bathrooms=3, house_size=2500, description='Spacious family home in the desirable Suburban Meadows neighborhood. This 4-bedroom, 3-bathroom home features a large backyard with a deck, perfect for outdoor entertaining. The open-concept living area includes a cozy fireplace and a gourmet kitchen with stainless steel appliances. The master suite offers a private retreat with a luxurious en-suite bathroom and walk-in closet.', neighborhood_description='Suburban Meadows is a family-friendly neighborhood with top-rated schools, parks, and community events. Enjoy the peace and quiet of suburban living while still being close to shopping and dining options.'), PropertyCharacteristics(neighborhood='Waterfront Estates', price=1500000, bedrooms=5, bathrooms=4, house_size=4000, description=\"Live the waterfront lifestyle in this stunning 5-bedroom, 4-bathroom estate. This luxurious home features panoramic water views, a private dock, and a spacious outdoor living area with a pool and hot tub. The gourmet kitchen is a chef's dream with high-end appliances and a large island for entertaining. The master suite includes a private balcony overlooking the water and a spa-like bathroom.\", neighborhood_description='Waterfront Estates is an exclusive waterfront community with private boat docks, walking trails, and upscale dining options. Residents enjoy a resort-style living experience with breathtaking views of the water.'), PropertyCharacteristics(neighborhood='Mountain Retreat', price=700000, bedrooms=3, bathrooms=2, house_size=2200, description='Escape to this peaceful mountain retreat nestled in the scenic mountains. This 3-bedroom, 2-bathroom home features a cozy fireplace, vaulted ceilings, and a wrap-around deck with mountain views. The open-concept living area is perfect for relaxing or entertaining, and the spacious master suite offers a private sanctuary with a jetted tub and walk-in closet.', neighborhood_description='Mountain Retreat is a tranquil mountain community with hiking trails, wildlife, and stunning views. Enjoy the serenity of nature while still being close to shopping and dining options.'), PropertyCharacteristics(neighborhood='Historic District', price=900000, bedrooms=4, bathrooms=3, house_size=2800, description='Step back in time with this historic 4-bedroom, 3-bathroom home in the charming Historic District. This beautifully restored home features original hardwood floors, crown molding, and a grand staircase. The updated kitchen includes modern appliances and a breakfast nook, while the master suite offers a private balcony and en-suite bathroom.', neighborhood_description=\"The Historic District is a picturesque neighborhood with tree-lined streets, historic homes, and boutique shops. Residents enjoy a sense of community and a connection to the area's rich history.\"), PropertyCharacteristics(neighborhood='Beachfront Paradise', price=2000000, bedrooms=6, bathrooms=5, house_size=5000, description='Experience luxury beachfront living in this 6-bedroom, 5-bathroom paradise. This custom-built home features a private beach access, infinity pool, and outdoor kitchen for entertaining. The open-concept living area offers panoramic ocean views, while the master suite includes a private balcony and a spa-like bathroom with a soaking tub.', neighborhood_description='Beachfront Paradise is a prestigious beachfront community with private beach access, upscale dining options, and beachfront activities. Residents enjoy a resort-style living experience with stunning views of the ocean.'), PropertyCharacteristics(neighborhood='Golf Course Community', price=750000, bedrooms=4, bathrooms=3, house_size=2600, description='Live the golf course lifestyle in this 4-bedroom, 3-bathroom home in the Golf Course Community. This spacious home features a gourmet kitchen, formal dining room, and a cozy family room with a fireplace. The master suite offers a private retreat with a walk-in closet and a luxurious en-suite bathroom.', neighborhood_description=\"The Golf Course Community is a golf lover's paradise with access to a championship golf course, clubhouse, and golf events. Residents enjoy a peaceful setting with scenic views of the fairways and greens.\"), PropertyCharacteristics(neighborhood='Urban Condo Living', price=500000, bedrooms=2, bathrooms=1, house_size=1200, description='Experience urban living at its finest in this 2-bedroom, 1-bathroom condo. This modern condo features an open floor plan, high ceilings, and floor-to-ceiling windows offering city views. The sleek kitchen includes stainless steel appliances and a breakfast bar, while the master bedroom offers a walk-in closet and access to a private balcony.', neighborhood_description='Urban Condo Living is a vibrant urban neighborhood with trendy restaurants, shops, and entertainment venues. Residents enjoy the convenience of city living with easy access to public transportation and cultural attractions.'), PropertyCharacteristics(neighborhood='Lakefront Retreat', price=1000000, bedrooms=3, bathrooms=2, house_size=1800, description='Escape to this serene lakefront retreat in the peaceful Lakefront Retreat neighborhood. This 3-bedroom, 2-bathroom home features a private dock, screened porch, and outdoor fire pit for relaxing by the water. The open-concept living area includes a cozy fireplace and a gourmet kitchen with granite countertops. The master suite offers a private oasis with lake views and a spa-like bathroom.', neighborhood_description='Lakefront Retreat is a tranquil lakefront community with fishing, boating, and water activities. Residents enjoy the beauty of the lake and the peaceful surroundings of nature.')])"
      ]
     },
     "execution_count": 15,
     "metadata": {},
     "output_type": "execute_result"
    }
   ],
   "source": [
    "result = parser.parse(response)\n",
    "result"
   ]
  },
  {
   "cell_type": "code",
   "execution_count": 16,
   "id": "9df04b37",
   "metadata": {},
   "outputs": [
    {
     "data": {
      "text/html": [
       "<div>\n",
       "<style scoped>\n",
       "    .dataframe tbody tr th:only-of-type {\n",
       "        vertical-align: middle;\n",
       "    }\n",
       "\n",
       "    .dataframe tbody tr th {\n",
       "        vertical-align: top;\n",
       "    }\n",
       "\n",
       "    .dataframe thead th {\n",
       "        text-align: right;\n",
       "    }\n",
       "</style>\n",
       "<table border=\"1\" class=\"dataframe\">\n",
       "  <thead>\n",
       "    <tr style=\"text-align: right;\">\n",
       "      <th></th>\n",
       "      <th>neighborhood</th>\n",
       "      <th>price</th>\n",
       "      <th>bedrooms</th>\n",
       "      <th>bathrooms</th>\n",
       "      <th>house_size</th>\n",
       "      <th>description</th>\n",
       "      <th>neighborhood_description</th>\n",
       "    </tr>\n",
       "  </thead>\n",
       "  <tbody>\n",
       "    <tr>\n",
       "      <th>0</th>\n",
       "      <td>Green Oaks</td>\n",
       "      <td>800000</td>\n",
       "      <td>3</td>\n",
       "      <td>2</td>\n",
       "      <td>2000</td>\n",
       "      <td>Welcome to this eco-friendly oasis nestled in ...</td>\n",
       "      <td>Green Oaks is a close-knit, environmentally-co...</td>\n",
       "    </tr>\n",
       "    <tr>\n",
       "      <th>1</th>\n",
       "      <td>Downtown Loft District</td>\n",
       "      <td>1200000</td>\n",
       "      <td>2</td>\n",
       "      <td>2</td>\n",
       "      <td>1800</td>\n",
       "      <td>Luxury loft living in the heart of the vibrant...</td>\n",
       "      <td>The Downtown Loft District is a bustling neigh...</td>\n",
       "    </tr>\n",
       "    <tr>\n",
       "      <th>2</th>\n",
       "      <td>Suburban Meadows</td>\n",
       "      <td>600000</td>\n",
       "      <td>4</td>\n",
       "      <td>3</td>\n",
       "      <td>2500</td>\n",
       "      <td>Spacious family home in the desirable Suburban...</td>\n",
       "      <td>Suburban Meadows is a family-friendly neighbor...</td>\n",
       "    </tr>\n",
       "    <tr>\n",
       "      <th>3</th>\n",
       "      <td>Waterfront Estates</td>\n",
       "      <td>1500000</td>\n",
       "      <td>5</td>\n",
       "      <td>4</td>\n",
       "      <td>4000</td>\n",
       "      <td>Live the waterfront lifestyle in this stunning...</td>\n",
       "      <td>Waterfront Estates is an exclusive waterfront ...</td>\n",
       "    </tr>\n",
       "    <tr>\n",
       "      <th>4</th>\n",
       "      <td>Mountain Retreat</td>\n",
       "      <td>700000</td>\n",
       "      <td>3</td>\n",
       "      <td>2</td>\n",
       "      <td>2200</td>\n",
       "      <td>Escape to this peaceful mountain retreat nestl...</td>\n",
       "      <td>Mountain Retreat is a tranquil mountain commun...</td>\n",
       "    </tr>\n",
       "    <tr>\n",
       "      <th>5</th>\n",
       "      <td>Historic District</td>\n",
       "      <td>900000</td>\n",
       "      <td>4</td>\n",
       "      <td>3</td>\n",
       "      <td>2800</td>\n",
       "      <td>Step back in time with this historic 4-bedroom...</td>\n",
       "      <td>The Historic District is a picturesque neighbo...</td>\n",
       "    </tr>\n",
       "    <tr>\n",
       "      <th>6</th>\n",
       "      <td>Beachfront Paradise</td>\n",
       "      <td>2000000</td>\n",
       "      <td>6</td>\n",
       "      <td>5</td>\n",
       "      <td>5000</td>\n",
       "      <td>Experience luxury beachfront living in this 6-...</td>\n",
       "      <td>Beachfront Paradise is a prestigious beachfron...</td>\n",
       "    </tr>\n",
       "    <tr>\n",
       "      <th>7</th>\n",
       "      <td>Golf Course Community</td>\n",
       "      <td>750000</td>\n",
       "      <td>4</td>\n",
       "      <td>3</td>\n",
       "      <td>2600</td>\n",
       "      <td>Live the golf course lifestyle in this 4-bedro...</td>\n",
       "      <td>The Golf Course Community is a golf lover's pa...</td>\n",
       "    </tr>\n",
       "    <tr>\n",
       "      <th>8</th>\n",
       "      <td>Urban Condo Living</td>\n",
       "      <td>500000</td>\n",
       "      <td>2</td>\n",
       "      <td>1</td>\n",
       "      <td>1200</td>\n",
       "      <td>Experience urban living at its finest in this ...</td>\n",
       "      <td>Urban Condo Living is a vibrant urban neighbor...</td>\n",
       "    </tr>\n",
       "    <tr>\n",
       "      <th>9</th>\n",
       "      <td>Lakefront Retreat</td>\n",
       "      <td>1000000</td>\n",
       "      <td>3</td>\n",
       "      <td>2</td>\n",
       "      <td>1800</td>\n",
       "      <td>Escape to this serene lakefront retreat in the...</td>\n",
       "      <td>Lakefront Retreat is a tranquil lakefront comm...</td>\n",
       "    </tr>\n",
       "  </tbody>\n",
       "</table>\n",
       "</div>"
      ],
      "text/plain": [
       "             neighborhood    price  bedrooms  bathrooms  house_size  \\\n",
       "0              Green Oaks   800000         3          2        2000   \n",
       "1  Downtown Loft District  1200000         2          2        1800   \n",
       "2        Suburban Meadows   600000         4          3        2500   \n",
       "3      Waterfront Estates  1500000         5          4        4000   \n",
       "4        Mountain Retreat   700000         3          2        2200   \n",
       "5       Historic District   900000         4          3        2800   \n",
       "6     Beachfront Paradise  2000000         6          5        5000   \n",
       "7   Golf Course Community   750000         4          3        2600   \n",
       "8      Urban Condo Living   500000         2          1        1200   \n",
       "9       Lakefront Retreat  1000000         3          2        1800   \n",
       "\n",
       "                                         description  \\\n",
       "0  Welcome to this eco-friendly oasis nestled in ...   \n",
       "1  Luxury loft living in the heart of the vibrant...   \n",
       "2  Spacious family home in the desirable Suburban...   \n",
       "3  Live the waterfront lifestyle in this stunning...   \n",
       "4  Escape to this peaceful mountain retreat nestl...   \n",
       "5  Step back in time with this historic 4-bedroom...   \n",
       "6  Experience luxury beachfront living in this 6-...   \n",
       "7  Live the golf course lifestyle in this 4-bedro...   \n",
       "8  Experience urban living at its finest in this ...   \n",
       "9  Escape to this serene lakefront retreat in the...   \n",
       "\n",
       "                            neighborhood_description  \n",
       "0  Green Oaks is a close-knit, environmentally-co...  \n",
       "1  The Downtown Loft District is a bustling neigh...  \n",
       "2  Suburban Meadows is a family-friendly neighbor...  \n",
       "3  Waterfront Estates is an exclusive waterfront ...  \n",
       "4  Mountain Retreat is a tranquil mountain commun...  \n",
       "5  The Historic District is a picturesque neighbo...  \n",
       "6  Beachfront Paradise is a prestigious beachfron...  \n",
       "7  The Golf Course Community is a golf lover's pa...  \n",
       "8  Urban Condo Living is a vibrant urban neighbor...  \n",
       "9  Lakefront Retreat is a tranquil lakefront comm...  "
      ]
     },
     "execution_count": 16,
     "metadata": {},
     "output_type": "execute_result"
    }
   ],
   "source": [
    "# Convert the json to a dataframe\n",
    "df = pd.DataFrame(jsonable_encoder(result.listings))\n",
    "df"
   ]
  },
  {
   "cell_type": "code",
   "execution_count": 17,
   "id": "92ca0286",
   "metadata": {},
   "outputs": [],
   "source": [
    "# save the result to a csv file for using later\n",
    "df.to_csv('generating_real_estate_listings.csv', index_label = 'id')"
   ]
  },
  {
   "cell_type": "markdown",
   "id": "97136089",
   "metadata": {},
   "source": [
    "# <font color='orange'>Step 3: Storing Listings in a Vector Database</font>"
   ]
  },
  {
   "cell_type": "markdown",
   "id": "cbce0b51",
   "metadata": {},
   "source": [
    "- Vector database: Using ChromaDB for vector search\n",
    "- Embedding creation: create embedding vector for content that LLM generated above for searching"
   ]
  },
  {
   "cell_type": "code",
   "execution_count": 18,
   "id": "82a88edd",
   "metadata": {},
   "outputs": [],
   "source": [
    "CHROMA_DB_LOCATION = \"./chroma\"\n",
    "generated_file = 'generating_real_estate_listings.csv'\n",
    "EMBEDDING_MODEL_NAME = \"text-embedding-ada-002\""
   ]
  },
  {
   "cell_type": "code",
   "execution_count": 19,
   "id": "aff213c0",
   "metadata": {},
   "outputs": [],
   "source": [
    "# Get the ada embedding\n",
    "embedding_function = OpenAIEmbeddings(model=EMBEDDING_MODEL_NAME, \n",
    "                                      deployment=EMBEDDING_MODEL_NAME)"
   ]
  },
  {
   "cell_type": "code",
   "execution_count": 20,
   "id": "3259f65a",
   "metadata": {},
   "outputs": [],
   "source": [
    "# Turn the dataframe into document\n",
    "df = pd.read_csv(generated_file)\n",
    "documents = []\n",
    "# Create the document where description is the page_content and the id is the index of dataframe\n",
    "for index, row in df.iterrows():\n",
    "    documents.append(Document(page_content=row['description'], metadata={'id': str(index)}))"
   ]
  },
  {
   "cell_type": "code",
   "execution_count": 21,
   "id": "3077af1f",
   "metadata": {},
   "outputs": [
    {
     "name": "stdout",
     "output_type": "stream",
     "text": [
      "10\n"
     ]
    },
    {
     "data": {
      "text/plain": [
       "Document(page_content='Welcome to this eco-friendly oasis nestled in the heart of Green Oaks. This charming 3-bedroom, 2-bathroom home boasts energy-efficient features such as solar panels and a well-insulated structure. Natural light floods the living spaces, highlighting the beautiful hardwood floors and eco-conscious finishes. The open-concept kitchen and dining area lead to a spacious backyard with a vegetable garden, perfect for the eco-conscious family. Embrace sustainable living without compromising on style in this Green Oaks gem.', metadata={'id': '0'})"
      ]
     },
     "execution_count": 21,
     "metadata": {},
     "output_type": "execute_result"
    }
   ],
   "source": [
    "print(len(documents))\n",
    "documents[0]"
   ]
  },
  {
   "cell_type": "code",
   "execution_count": 22,
   "id": "fd7b6a23",
   "metadata": {},
   "outputs": [],
   "source": [
    "# Churking the document into size of 300 and overlap is 100 tokens\n",
    "text_splitter = RecursiveCharacterTextSplitter(\n",
    "    chunk_size=300,\n",
    "    chunk_overlap=100,\n",
    "    length_function=len,\n",
    "    add_start_index=True,\n",
    ")\n",
    "chunks = text_splitter.split_documents(documents)"
   ]
  },
  {
   "cell_type": "code",
   "execution_count": 23,
   "id": "e445f058",
   "metadata": {},
   "outputs": [
    {
     "name": "stdout",
     "output_type": "stream",
     "text": [
      "The number of chunks is 21\n"
     ]
    }
   ],
   "source": [
    "print('The number of chunks is', len(chunks))"
   ]
  },
  {
   "cell_type": "code",
   "execution_count": 24,
   "id": "c8b747c6",
   "metadata": {},
   "outputs": [
    {
     "data": {
      "text/plain": [
       "Document(page_content='Welcome to this eco-friendly oasis nestled in the heart of Green Oaks. This charming 3-bedroom, 2-bathroom home boasts energy-efficient features such as solar panels and a well-insulated structure. Natural light floods the living spaces, highlighting the beautiful hardwood floors and eco-conscious', metadata={'id': '0', 'start_index': 0})"
      ]
     },
     "execution_count": 24,
     "metadata": {},
     "output_type": "execute_result"
    }
   ],
   "source": [
    "# We can see that the first document is churked already\n",
    "chunks[0]"
   ]
  },
  {
   "cell_type": "code",
   "execution_count": 25,
   "id": "e51b3808",
   "metadata": {},
   "outputs": [],
   "source": [
    "if os.path.exists(CHROMA_DB_LOCATION):\n",
    "    shutil.rmtree(CHROMA_DB_LOCATION)"
   ]
  },
  {
   "cell_type": "code",
   "execution_count": 26,
   "id": "9e010b7d",
   "metadata": {},
   "outputs": [],
   "source": [
    "db = Chroma.from_documents(\n",
    "    documents=chunks, embedding=embedding_function, persist_directory=CHROMA_DB_LOCATION\n",
    ")"
   ]
  },
  {
   "cell_type": "code",
   "execution_count": 27,
   "id": "ab1ea08e",
   "metadata": {},
   "outputs": [
    {
     "name": "stdout",
     "output_type": "stream",
     "text": [
      "Saved 21 chunks to ./chroma.\n"
     ]
    }
   ],
   "source": [
    "db.persist()\n",
    "print(f\"Saved {len(chunks)} chunks to {CHROMA_DB_LOCATION}.\")"
   ]
  },
  {
   "cell_type": "markdown",
   "id": "350c154d",
   "metadata": {},
   "source": [
    "# <font color='orange'>Step 4: Building the User Preference Interface</font>"
   ]
  },
  {
   "cell_type": "code",
   "execution_count": 39,
   "id": "62033f0b",
   "metadata": {},
   "outputs": [],
   "source": [
    "query = \"A comfortable three-bedroom house with a spacious kitchen and a cozy living room.\" "
   ]
  },
  {
   "cell_type": "code",
   "execution_count": 40,
   "id": "f920a710",
   "metadata": {},
   "outputs": [],
   "source": [
    "answer_prompt =\\\n",
    "\"\"\"\n",
    "You are smart assistant for real estate consultant. Given below contexts:\n",
    "\n",
    "{context}\n",
    "\n",
    "---\n",
    "\n",
    "You should advise the customer with details information. \\\n",
    "Give the reason why you think the property will match with customer requirement. \\\n",
    "You will repeat the content of the property that you think customer will like in the answer as well. \\\n",
    "Please advise the customer for the question: {question}\n",
    "\"\"\""
   ]
  },
  {
   "cell_type": "markdown",
   "id": "3a4c7741",
   "metadata": {},
   "source": [
    "# <font color='orange'>Step 5: Searching Based on Preferences</font>"
   ]
  },
  {
   "cell_type": "code",
   "execution_count": 42,
   "id": "be570d8c",
   "metadata": {},
   "outputs": [],
   "source": [
    "def answer_query(query, prompt_instruction):\n",
    "    \"\"\"\n",
    "    This function will consult the customer with the property they may be interested in\n",
    "    - Search the document with score >= 0.7 and top_k = 3\n",
    "    - Given the prompt instruction to advise customer.\n",
    "    \n",
    "    Parameter:\n",
    "    - query: customer question\n",
    "    - prompt_instruction: prompt for answering\n",
    "    \"\"\"\n",
    "    results = db.similarity_search_with_relevance_scores(query, k=3)\n",
    "    if len(results) == 0 or results[0][1] < 0.7:\n",
    "        print(f\"I am sorry. In my data, there is no property matched with your needs\")\n",
    "    else:\n",
    "        context_text = \"\\n\\n---\\n\\n\".join([doc.page_content for doc, _score in results])\n",
    "        prompt_template = ChatPromptTemplate.from_template(prompt_instruction)\n",
    "        prompt = prompt_template.format(context=context_text, question=query)\n",
    "        print(f\"Generated Prompt:\\n{prompt}\")    \n",
    "        model = ChatOpenAI()\n",
    "        response_text = model.predict(prompt)\n",
    "        sources = [doc.metadata.get(\"id\", None) for doc, _score in results]\n",
    "        formatted_response = f\"Response: {response_text}\\nSources: {sources}\"\n",
    "        print(formatted_response)"
   ]
  },
  {
   "cell_type": "code",
   "execution_count": 44,
   "id": "560f8b71",
   "metadata": {},
   "outputs": [
    {
     "name": "stdout",
     "output_type": "stream",
     "text": [
      "Generated Prompt:\n",
      "Human: \n",
      "You are smart assistant for real estate consultant. Given below contexts:\n",
      "\n",
      "includes a cozy fireplace and a gourmet kitchen with stainless steel appliances. The master suite offers a private retreat with a luxurious en-suite bathroom and walk-in closet.\n",
      "\n",
      "---\n",
      "\n",
      "The open-concept living area is perfect for relaxing or entertaining, and the spacious master suite offers a private sanctuary with a jetted tub and walk-in closet.\n",
      "\n",
      "---\n",
      "\n",
      "The updated kitchen includes modern appliances and a breakfast nook, while the master suite offers a private balcony and en-suite bathroom.\n",
      "\n",
      "---\n",
      "\n",
      "You should advise the customer with details information. Give the reason why you think the property will match with customer requirement. You will repeat the content of the property that you think customer will like in the answer as well. Please advise the customer for the question: A comfortable three-bedroom house with a spacious kitchen and a cozy living room.\n",
      "\n",
      "Response: Based on your requirement for a comfortable three-bedroom house with a spacious kitchen and a cozy living room, I believe the property with a gourmet kitchen with stainless steel appliances and a cozy fireplace would be a great match for you. The open-concept living area is perfect for relaxing or entertaining, and the master suite offers a private retreat with a luxurious en-suite bathroom and walk-in closet. This property offers a perfect combination of comfort and luxury, making it an ideal choice for you.\n",
      "Sources: ['2', '4', '5']\n"
     ]
    }
   ],
   "source": [
    "answer_query(query=query, prompt_instruction=answer_prompt)"
   ]
  },
  {
   "cell_type": "markdown",
   "id": "7878d871",
   "metadata": {},
   "source": [
    "Comment:\n",
    "- It seems the reason the LLM provide quite appealing to purchase the property\n",
    "- Let's try to add more personal in the answer"
   ]
  },
  {
   "cell_type": "markdown",
   "id": "ef2ec2d2",
   "metadata": {},
   "source": [
    "# <font color='orange'>Step 6: Personalizing Listing Descriptions</font>"
   ]
  },
  {
   "cell_type": "code",
   "execution_count": 50,
   "id": "8863062c",
   "metadata": {},
   "outputs": [],
   "source": [
    "personalize_prompt =\\\n",
    "\"\"\"\n",
    "You are smart assistant for real estate consultant. Given below contexts:\n",
    "\n",
    "{context}\n",
    "\n",
    "---\n",
    "\n",
    "Given the question:{question}\n",
    "You will make the response that not only answer the above question, \\\n",
    "but also explain very details why you think the property is perfect for customer.\\\n",
    "You explanation must be distinct, captivating and customized that match with the specific preferences.\\\n",
    "You must emphasize the aspects of the property that likely to match with customer requirement.\\\n",
    "Try to consult as details as possible and make the answer very appealing to customer.\n",
    "\"\"\""
   ]
  },
  {
   "cell_type": "code",
   "execution_count": 48,
   "id": "367c6ed8",
   "metadata": {},
   "outputs": [
    {
     "name": "stdout",
     "output_type": "stream",
     "text": [
      "Generated Prompt:\n",
      "Human: \n",
      "You are smart assistant for real estate consultant. Given below contexts:\n",
      "\n",
      "includes a cozy fireplace and a gourmet kitchen with stainless steel appliances. The master suite offers a private retreat with a luxurious en-suite bathroom and walk-in closet.\n",
      "\n",
      "---\n",
      "\n",
      "The open-concept living area is perfect for relaxing or entertaining, and the spacious master suite offers a private sanctuary with a jetted tub and walk-in closet.\n",
      "\n",
      "---\n",
      "\n",
      "The updated kitchen includes modern appliances and a breakfast nook, while the master suite offers a private balcony and en-suite bathroom.\n",
      "\n",
      "---\n",
      "\n",
      "Given the question:A comfortable three-bedroom house with a spacious kitchen and a cozy living room.\n",
      "You will make the response that not only answer the above question, but also explain very details why you think the property is perfect for customer.You explanation must be distinct, captivating and customized that match with the specific preferences.You must emphasize the aspects of the property that likely to match with customer requirement.Try to consult as details as possible and make the answer very appealing to customer.\n",
      "\n",
      "Response: Based on your preferences for a comfortable three-bedroom house with a spacious kitchen and a cozy living room, I have found the perfect property for you. This stunning home features a gourmet kitchen with stainless steel appliances, perfect for whipping up delicious meals for your family and friends. The open-concept living area is ideal for relaxing or entertaining, with a cozy fireplace to create a warm and inviting atmosphere.\n",
      "\n",
      "The spacious master suite offers a private retreat with a luxurious en-suite bathroom and walk-in closet, providing you with the perfect sanctuary to unwind after a long day. Additionally, the master suite also boasts a jetted tub, perfect for relaxing and rejuvenating.\n",
      "\n",
      "Furthermore, the updated kitchen includes modern appliances and a breakfast nook, making it the perfect space to start your day with a cup of coffee. The master suite also offers a private balcony, where you can enjoy your morning coffee or relax in the evening with a glass of wine while taking in the beautiful views.\n",
      "\n",
      "Overall, this property not only meets your criteria for a comfortable three-bedroom house with a spacious kitchen and cozy living room, but it also exceeds your expectations with its luxurious features and amenities. I believe this property is the perfect fit for you and I highly recommend you schedule a viewing to experience it for yourself.\n",
      "Sources: ['2', '4', '5']\n"
     ]
    }
   ],
   "source": [
    "answer_query(query=query, prompt_instruction=personalize_prompt)"
   ]
  },
  {
   "cell_type": "markdown",
   "id": "b22e33dc",
   "metadata": {},
   "source": [
    "Comment:\n",
    "- As can be seen, the answer is really appealing and to the points of user\n",
    "- This can help to convert the purchase rate better and user may feel comfortable with the virtual assistant consultant."
   ]
  },
  {
   "cell_type": "code",
   "execution_count": 49,
   "id": "286808ab",
   "metadata": {},
   "outputs": [],
   "source": [
    "# Let try one more example:\n",
    "query_new = \"A quiet neighborhood, good local schools, and convenient shopping options.\""
   ]
  },
  {
   "cell_type": "code",
   "execution_count": 52,
   "id": "414657c7",
   "metadata": {},
   "outputs": [
    {
     "name": "stdout",
     "output_type": "stream",
     "text": [
      "Generated Prompt:\n",
      "Human: \n",
      "You are smart assistant for real estate consultant. Given below contexts:\n",
      "\n",
      "views. The modern kitchen is perfect for entertaining, and the spacious master suite includes a walk-in closet and spa-like bathroom. Enjoy the convenience of living within walking distance to top restaurants, shops, and entertainment venues.\n",
      "\n",
      "---\n",
      "\n",
      "Spacious family home in the desirable Suburban Meadows neighborhood. This 4-bedroom, 3-bathroom home features a large backyard with a deck, perfect for outdoor entertaining. The open-concept living area includes a cozy fireplace and a gourmet kitchen with stainless steel appliances. The master suite\n",
      "\n",
      "---\n",
      "\n",
      "The open-concept living area is perfect for relaxing or entertaining, and the spacious master suite offers a private sanctuary with a jetted tub and walk-in closet.\n",
      "\n",
      "---\n",
      "\n",
      "Given the question:A quiet neighborhood, good local schools, and convenient shopping options.\n",
      "You will make the response that not only answer the above question, but also explain very details why you think the property is perfect for customer.You explanation must be distinct, captivating and customized that match with the specific preferences.You must emphasize the aspects of the property that likely to match with customer requirement.Try to consult as details as possible and make the answer very appealing to customer.\n",
      "\n",
      "Response: This charming family home in the desirable Suburban Meadows neighborhood is the perfect fit for you! The quiet neighborhood offers a peaceful retreat from the hustle and bustle of city life, while the top-rated local schools provide excellent education options for your family. With convenient shopping options just a short drive away, running errands will be a breeze.\n",
      "\n",
      "This 4-bedroom, 3-bathroom home is ideal for entertaining guests or simply relaxing with your loved ones. The spacious backyard with a deck is perfect for outdoor gatherings, while the open-concept living area features a cozy fireplace for those chilly evenings. The gourmet kitchen with stainless steel appliances is a chef's dream, making meal preparation a joy.\n",
      "\n",
      "The master suite is a true sanctuary, offering a jetted tub for ultimate relaxation and a walk-in closet for all your storage needs. With a modern kitchen perfect for entertaining, and the convenience of living within walking distance to top restaurants, shops, and entertainment venues, this home truly has it all. Don't miss out on the opportunity to make this your dream home!\n",
      "Sources: ['1', '2', '4']\n"
     ]
    }
   ],
   "source": [
    "answer_query(query=query_new, prompt_instruction=personalize_prompt)"
   ]
  }
 ],
 "metadata": {
  "kernelspec": {
   "display_name": "Python 3 (ipykernel)",
   "language": "python",
   "name": "python3"
  },
  "language_info": {
   "codemirror_mode": {
    "name": "ipython",
    "version": 3
   },
   "file_extension": ".py",
   "mimetype": "text/x-python",
   "name": "python",
   "nbconvert_exporter": "python",
   "pygments_lexer": "ipython3",
   "version": "3.10.11"
  }
 },
 "nbformat": 4,
 "nbformat_minor": 5
}
